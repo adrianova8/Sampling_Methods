{
  "nbformat": 4,
  "nbformat_minor": 0,
  "metadata": {
    "colab": {
      "name": "S06 T01: Tasca mètodes de mostreig.ipynb",
      "provenance": [],
      "collapsed_sections": [],
      "mount_file_id": "1slLUz-XMjyEsPQVLXAEhhhJ9CnBVIAXw",
      "authorship_tag": "ABX9TyNIhdiOu9ks4R0BVcadSxKc",
      "include_colab_link": true
    },
    "kernelspec": {
      "name": "python3",
      "display_name": "Python 3"
    },
    "language_info": {
      "name": "python"
    }
  },
  "cells": [
    {
      "cell_type": "markdown",
      "metadata": {
        "id": "view-in-github",
        "colab_type": "text"
      },
      "source": [
        "<a href=\"https://colab.research.google.com/github/adrianova8/Sampling_Methods/blob/main/S06_T01_Tasca_m%C3%A8todes_de_mostreig.ipynb\" target=\"_parent\"><img src=\"https://colab.research.google.com/assets/colab-badge.svg\" alt=\"Open In Colab\"/></a>"
      ]
    },
    {
      "cell_type": "markdown",
      "metadata": {
        "id": "rmtoCfn0eIoT"
      },
      "source": [
        "KAGGLE LINK:      \n",
        "\n",
        "https://www.kaggle.com/mohamedhanyyy/top-football-leagues-scorers"
      ]
    },
    {
      "cell_type": "markdown",
      "metadata": {
        "id": "oTIiYHgxWCw1"
      },
      "source": [
        "# **DATA SCIENCE ITINERARY - IT ACADEMY**\n",
        "\n"
      ]
    },
    {
      "cell_type": "markdown",
      "metadata": {
        "id": "ca02nKObWCuV"
      },
      "source": [
        "<div class=\"alert alert-block alert-info\"><font size=\"6\"><center><b><u>Sprint 6. Sampling Methods</u></b><center></font>\n",
        "\n",
        "\\begin{align*}Adrià\\:Nova\\end{align*}\n",
        "    \n",
        "\\begin{align*}Data\\hspace{2mm}Science\\hspace{2mm}Integrator\\end{align*}\n",
        "       \n",
        "\\begin{align*}Date : November\\hspace{2mm}2021\\end{align*}</div>\n"
      ]
    },
    {
      "cell_type": "markdown",
      "metadata": {
        "id": "42g2REUiWCr8"
      },
      "source": [
        "\n",
        "<div class=\"alert alert-block alert-info\"><font size=\"6\"><b>S06 T01: Assign Sampling Methods</b></font>\n",
        "\n",
        "\n"
      ]
    },
    {
      "cell_type": "markdown",
      "metadata": {
        "id": "RJNZfqrGEX0C"
      },
      "source": [
        "<div class=\"alert alert-block alert-info\"><font size=\"5\"><b>DATA CONTEXT:</b></font>\n",
        "\n",
        "* The dataset is scraped from many resources, one of them is **INFOGOL**.\n",
        "\n",
        "* **INFOGOL** has league tables and statistics from some of the top competitions from all around the world.\n",
        "\n",
        "<div class=\"alert alert-block alert-info\"><font size=\"5\"><b>DATA CONTENT:</b></font>\n",
        "\n",
        "* This dataset includes top football leagues scorers"
      ]
    },
    {
      "cell_type": "markdown",
      "metadata": {
        "id": "53AJUruUdgsz"
      },
      "source": [
        "<div class=\"alert alert-block alert-info\"><font size=\"6\"><b>Top Football Leagues Scorers Data Set</b></font>\n",
        "\n",
        "<div class=\"alert alert-block alert-info\"><font size=\"5\"><b>Variables Description:</b></font>\n",
        "\n",
        "**Country:** The place where the league is played\n",
        "\n",
        "**League:** The league the player plays in\n",
        "\n",
        "**Club:** The club the player plays in\n",
        "\n",
        "**Player Names:** The name's player\n",
        "\n",
        "**Matches Played:** Number of matches played during a season\n",
        "\n",
        "**Substitution:** Number of times the player has been replaced\n",
        "\n",
        "**Mins:** Minutes played during a season\n",
        "\n",
        "**xG:** A predictive system that is used to evaluate the probability of scoring that a footballer has in each possibility of a goal. The higher the value, the greater the probability of scoring a goal in each goal possibility\n",
        "\n",
        "**xG Per Avg Match:** Same that xG but the average score per match. The higher value, the better.\n",
        "\n",
        "**Shots:** Shots during the season\n",
        "\n",
        "**OnTarget:** Shots during the season on target\n",
        "\n",
        "**Shots Per Avg Match:** Average shots per match\n",
        "\n",
        "**On Target Per Avg Match:** Average shots on target per match\n",
        "\n",
        "**Year:** Year of the season\n",
        "\n",
        "\n"
      ]
    },
    {
      "cell_type": "code",
      "metadata": {
        "id": "lj_fe8SrSOQL",
        "colab": {
          "base_uri": "https://localhost:8080/"
        },
        "outputId": "b4dc03f9-00ac-4d3e-c39d-5f4e5cdd9ceb"
      },
      "source": [
        "# Libraries\n",
        "\n",
        "!pip install squarify\n",
        "!pip install imblearn\n",
        "import numpy as np\n",
        "import pandas as pd\n",
        "import matplotlib.pyplot as plt\n",
        "import seaborn as sns   \n",
        "import sklearn"
      ],
      "execution_count": null,
      "outputs": [
        {
          "output_type": "stream",
          "name": "stdout",
          "text": [
            "Requirement already satisfied: squarify in /usr/local/lib/python3.7/dist-packages (0.4.3)\n",
            "Requirement already satisfied: imblearn in /usr/local/lib/python3.7/dist-packages (0.0)\n",
            "Requirement already satisfied: imbalanced-learn in /usr/local/lib/python3.7/dist-packages (from imblearn) (0.8.1)\n",
            "Requirement already satisfied: scikit-learn>=0.24 in /usr/local/lib/python3.7/dist-packages (from imbalanced-learn->imblearn) (1.0.1)\n",
            "Requirement already satisfied: numpy>=1.13.3 in /usr/local/lib/python3.7/dist-packages (from imbalanced-learn->imblearn) (1.19.5)\n",
            "Requirement already satisfied: scipy>=0.19.1 in /usr/local/lib/python3.7/dist-packages (from imbalanced-learn->imblearn) (1.4.1)\n",
            "Requirement already satisfied: joblib>=0.11 in /usr/local/lib/python3.7/dist-packages (from imbalanced-learn->imblearn) (1.1.0)\n",
            "Requirement already satisfied: threadpoolctl>=2.0.0 in /usr/local/lib/python3.7/dist-packages (from scikit-learn>=0.24->imbalanced-learn->imblearn) (3.0.0)\n"
          ]
        }
      ]
    },
    {
      "cell_type": "code",
      "metadata": {
        "id": "vEK3yKhFVqxR",
        "colab": {
          "base_uri": "https://localhost:8080/",
          "height": 241
        },
        "outputId": "ba8110b0-3d89-4592-ec6a-410ab625c999"
      },
      "source": [
        "# DataSet\n",
        "\n",
        "pd.set_option('display.max_rows', 660)\n",
        "\n",
        "scorers = pd.read_csv('/content/drive/MyDrive/IT Academy - Data Science/Sprint 6. Mètodes de Mostreig/Statistics_Scorers.csv')\n",
        "scorers.head()"
      ],
      "execution_count": null,
      "outputs": [
        {
          "output_type": "execute_result",
          "data": {
            "text/html": [
              "<div>\n",
              "<style scoped>\n",
              "    .dataframe tbody tr th:only-of-type {\n",
              "        vertical-align: middle;\n",
              "    }\n",
              "\n",
              "    .dataframe tbody tr th {\n",
              "        vertical-align: top;\n",
              "    }\n",
              "\n",
              "    .dataframe thead th {\n",
              "        text-align: right;\n",
              "    }\n",
              "</style>\n",
              "<table border=\"1\" class=\"dataframe\">\n",
              "  <thead>\n",
              "    <tr style=\"text-align: right;\">\n",
              "      <th></th>\n",
              "      <th>Country</th>\n",
              "      <th>League</th>\n",
              "      <th>Club</th>\n",
              "      <th>Player Names</th>\n",
              "      <th>Matches_Played</th>\n",
              "      <th>Substitution</th>\n",
              "      <th>Mins</th>\n",
              "      <th>Goals</th>\n",
              "      <th>xG</th>\n",
              "      <th>xG Per Avg Match</th>\n",
              "      <th>Shots</th>\n",
              "      <th>OnTarget</th>\n",
              "      <th>Shots Per Avg Match</th>\n",
              "      <th>On Target Per Avg Match</th>\n",
              "      <th>Year</th>\n",
              "    </tr>\n",
              "  </thead>\n",
              "  <tbody>\n",
              "    <tr>\n",
              "      <th>0</th>\n",
              "      <td>Spain</td>\n",
              "      <td>La Liga</td>\n",
              "      <td>(BET)</td>\n",
              "      <td>Juanmi Callejon</td>\n",
              "      <td>19</td>\n",
              "      <td>16</td>\n",
              "      <td>1849</td>\n",
              "      <td>11</td>\n",
              "      <td>6.62</td>\n",
              "      <td>0.34</td>\n",
              "      <td>48</td>\n",
              "      <td>20</td>\n",
              "      <td>2.47</td>\n",
              "      <td>1.03</td>\n",
              "      <td>2016</td>\n",
              "    </tr>\n",
              "    <tr>\n",
              "      <th>1</th>\n",
              "      <td>Spain</td>\n",
              "      <td>La Liga</td>\n",
              "      <td>(BAR)</td>\n",
              "      <td>Antoine Griezmann</td>\n",
              "      <td>36</td>\n",
              "      <td>0</td>\n",
              "      <td>3129</td>\n",
              "      <td>16</td>\n",
              "      <td>11.86</td>\n",
              "      <td>0.36</td>\n",
              "      <td>88</td>\n",
              "      <td>41</td>\n",
              "      <td>2.67</td>\n",
              "      <td>1.24</td>\n",
              "      <td>2016</td>\n",
              "    </tr>\n",
              "    <tr>\n",
              "      <th>2</th>\n",
              "      <td>Spain</td>\n",
              "      <td>La Liga</td>\n",
              "      <td>(ATL)</td>\n",
              "      <td>Luis Suarez</td>\n",
              "      <td>34</td>\n",
              "      <td>1</td>\n",
              "      <td>2940</td>\n",
              "      <td>28</td>\n",
              "      <td>23.21</td>\n",
              "      <td>0.75</td>\n",
              "      <td>120</td>\n",
              "      <td>57</td>\n",
              "      <td>3.88</td>\n",
              "      <td>1.84</td>\n",
              "      <td>2016</td>\n",
              "    </tr>\n",
              "    <tr>\n",
              "      <th>3</th>\n",
              "      <td>Spain</td>\n",
              "      <td>La Liga</td>\n",
              "      <td>(CAR)</td>\n",
              "      <td>Ruben Castro</td>\n",
              "      <td>32</td>\n",
              "      <td>3</td>\n",
              "      <td>2842</td>\n",
              "      <td>13</td>\n",
              "      <td>14.06</td>\n",
              "      <td>0.47</td>\n",
              "      <td>117</td>\n",
              "      <td>42</td>\n",
              "      <td>3.91</td>\n",
              "      <td>1.40</td>\n",
              "      <td>2016</td>\n",
              "    </tr>\n",
              "    <tr>\n",
              "      <th>4</th>\n",
              "      <td>Spain</td>\n",
              "      <td>La Liga</td>\n",
              "      <td>(VAL)</td>\n",
              "      <td>Kevin Gameiro</td>\n",
              "      <td>21</td>\n",
              "      <td>10</td>\n",
              "      <td>1745</td>\n",
              "      <td>13</td>\n",
              "      <td>10.65</td>\n",
              "      <td>0.58</td>\n",
              "      <td>50</td>\n",
              "      <td>23</td>\n",
              "      <td>2.72</td>\n",
              "      <td>1.25</td>\n",
              "      <td>2016</td>\n",
              "    </tr>\n",
              "  </tbody>\n",
              "</table>\n",
              "</div>"
            ],
            "text/plain": [
              "  Country   League   Club  ... Shots Per Avg Match  On Target Per Avg Match  Year\n",
              "0   Spain  La Liga  (BET)  ...                2.47                     1.03  2016\n",
              "1   Spain  La Liga  (BAR)  ...                2.67                     1.24  2016\n",
              "2   Spain  La Liga  (ATL)  ...                3.88                     1.84  2016\n",
              "3   Spain  La Liga  (CAR)  ...                3.91                     1.40  2016\n",
              "4   Spain  La Liga  (VAL)  ...                2.72                     1.25  2016\n",
              "\n",
              "[5 rows x 15 columns]"
            ]
          },
          "metadata": {},
          "execution_count": 153
        }
      ]
    },
    {
      "cell_type": "code",
      "metadata": {
        "colab": {
          "base_uri": "https://localhost:8080/",
          "height": 275
        },
        "id": "R_8gnOUfSGAc",
        "outputId": "cd71a46e-035e-47ca-c8ca-f035d4379bc5"
      },
      "source": [
        "scorers.tail()"
      ],
      "execution_count": null,
      "outputs": [
        {
          "output_type": "execute_result",
          "data": {
            "text/html": [
              "<div>\n",
              "<style scoped>\n",
              "    .dataframe tbody tr th:only-of-type {\n",
              "        vertical-align: middle;\n",
              "    }\n",
              "\n",
              "    .dataframe tbody tr th {\n",
              "        vertical-align: top;\n",
              "    }\n",
              "\n",
              "    .dataframe thead th {\n",
              "        text-align: right;\n",
              "    }\n",
              "</style>\n",
              "<table border=\"1\" class=\"dataframe\">\n",
              "  <thead>\n",
              "    <tr style=\"text-align: right;\">\n",
              "      <th></th>\n",
              "      <th>Country</th>\n",
              "      <th>League</th>\n",
              "      <th>Club</th>\n",
              "      <th>Player Names</th>\n",
              "      <th>Matches_Played</th>\n",
              "      <th>Substitution</th>\n",
              "      <th>Mins</th>\n",
              "      <th>Goals</th>\n",
              "      <th>xG</th>\n",
              "      <th>xG Per Avg Match</th>\n",
              "      <th>Shots</th>\n",
              "      <th>OnTarget</th>\n",
              "      <th>Shots Per Avg Match</th>\n",
              "      <th>On Target Per Avg Match</th>\n",
              "      <th>Year</th>\n",
              "    </tr>\n",
              "  </thead>\n",
              "  <tbody>\n",
              "    <tr>\n",
              "      <th>655</th>\n",
              "      <td>Netherlands</td>\n",
              "      <td>Eredivisie</td>\n",
              "      <td>(UTR)</td>\n",
              "      <td>Gyrano Kerk</td>\n",
              "      <td>24</td>\n",
              "      <td>0</td>\n",
              "      <td>2155</td>\n",
              "      <td>10</td>\n",
              "      <td>7.49</td>\n",
              "      <td>0.33</td>\n",
              "      <td>50</td>\n",
              "      <td>18</td>\n",
              "      <td>2.20</td>\n",
              "      <td>0.79</td>\n",
              "      <td>2020</td>\n",
              "    </tr>\n",
              "    <tr>\n",
              "      <th>656</th>\n",
              "      <td>Netherlands</td>\n",
              "      <td>Eredivisie</td>\n",
              "      <td>(AJA)</td>\n",
              "      <td>Quincy Promes</td>\n",
              "      <td>18</td>\n",
              "      <td>2</td>\n",
              "      <td>1573</td>\n",
              "      <td>12</td>\n",
              "      <td>9.77</td>\n",
              "      <td>0.59</td>\n",
              "      <td>56</td>\n",
              "      <td>30</td>\n",
              "      <td>3.38</td>\n",
              "      <td>1.81</td>\n",
              "      <td>2020</td>\n",
              "    </tr>\n",
              "    <tr>\n",
              "      <th>657</th>\n",
              "      <td>Netherlands</td>\n",
              "      <td>Eredivisie</td>\n",
              "      <td>(PSV)</td>\n",
              "      <td>Denzel Dumfries</td>\n",
              "      <td>25</td>\n",
              "      <td>0</td>\n",
              "      <td>2363</td>\n",
              "      <td>7</td>\n",
              "      <td>5.72</td>\n",
              "      <td>0.23</td>\n",
              "      <td>45</td>\n",
              "      <td>14</td>\n",
              "      <td>1.81</td>\n",
              "      <td>0.56</td>\n",
              "      <td>2020</td>\n",
              "    </tr>\n",
              "    <tr>\n",
              "      <th>658</th>\n",
              "      <td>Netherlands</td>\n",
              "      <td>Eredivisie</td>\n",
              "      <td>None</td>\n",
              "      <td>Cyriel Dessers</td>\n",
              "      <td>26</td>\n",
              "      <td>0</td>\n",
              "      <td>2461</td>\n",
              "      <td>15</td>\n",
              "      <td>14.51</td>\n",
              "      <td>0.56</td>\n",
              "      <td>84</td>\n",
              "      <td>43</td>\n",
              "      <td>3.24</td>\n",
              "      <td>1.66</td>\n",
              "      <td>2020</td>\n",
              "    </tr>\n",
              "    <tr>\n",
              "      <th>659</th>\n",
              "      <td>Netherlands</td>\n",
              "      <td>Eredivisie</td>\n",
              "      <td>(PSV)</td>\n",
              "      <td>Cody Gakpo</td>\n",
              "      <td>14</td>\n",
              "      <td>11</td>\n",
              "      <td>1557</td>\n",
              "      <td>7</td>\n",
              "      <td>4.43</td>\n",
              "      <td>0.27</td>\n",
              "      <td>38</td>\n",
              "      <td>15</td>\n",
              "      <td>2.32</td>\n",
              "      <td>0.92</td>\n",
              "      <td>2020</td>\n",
              "    </tr>\n",
              "  </tbody>\n",
              "</table>\n",
              "</div>"
            ],
            "text/plain": [
              "          Country      League  ... On Target Per Avg Match  Year\n",
              "655   Netherlands  Eredivisie  ...                    0.79  2020\n",
              "656   Netherlands  Eredivisie  ...                    1.81  2020\n",
              "657   Netherlands  Eredivisie  ...                    0.56  2020\n",
              "658   Netherlands  Eredivisie  ...                    1.66  2020\n",
              "659   Netherlands  Eredivisie  ...                    0.92  2020\n",
              "\n",
              "[5 rows x 15 columns]"
            ]
          },
          "metadata": {},
          "execution_count": 154
        }
      ]
    },
    {
      "cell_type": "code",
      "metadata": {
        "colab": {
          "base_uri": "https://localhost:8080/"
        },
        "id": "F_NahJ1igxGJ",
        "outputId": "43ebfb07-7d65-4fa5-adfb-3a8bed05f77f"
      },
      "source": [
        "# The shape. 660 rows and 15 columns.\n",
        "\n",
        "scorers.shape"
      ],
      "execution_count": null,
      "outputs": [
        {
          "output_type": "execute_result",
          "data": {
            "text/plain": [
              "(660, 15)"
            ]
          },
          "metadata": {},
          "execution_count": 155
        }
      ]
    },
    {
      "cell_type": "code",
      "metadata": {
        "id": "MlqEu0AYsrmV",
        "colab": {
          "base_uri": "https://localhost:8080/"
        },
        "outputId": "1840c560-f27b-4ed1-fb43-7f7b06d846e3"
      },
      "source": [
        "# Number of different types of data by column\n",
        "\n",
        "scorers.nunique()"
      ],
      "execution_count": null,
      "outputs": [
        {
          "output_type": "execute_result",
          "data": {
            "text/plain": [
              "Country                      9\n",
              "League                      28\n",
              "Club                       180\n",
              "Player Names               444\n",
              "Matches_Played              37\n",
              "Substitution                21\n",
              "Mins                       583\n",
              "Goals                       33\n",
              "xG                         558\n",
              "xG Per Avg Match            92\n",
              "Shots                      144\n",
              "OnTarget                    79\n",
              "Shots Per Avg Match        280\n",
              "On Target Per Avg Match    184\n",
              "Year                         5\n",
              "dtype: int64"
            ]
          },
          "metadata": {},
          "execution_count": 156
        }
      ]
    },
    {
      "cell_type": "code",
      "metadata": {
        "colab": {
          "base_uri": "https://localhost:8080/"
        },
        "id": "arTI4NzrPRSh",
        "outputId": "ca7d54e7-9ed4-4edd-d29d-98b83669a169"
      },
      "source": [
        "#There are for years in our data set\n",
        "\n",
        "scorers['Year'].unique()"
      ],
      "execution_count": null,
      "outputs": [
        {
          "output_type": "execute_result",
          "data": {
            "text/plain": [
              "array([2016, 2017, 2018, 2019, 2020])"
            ]
          },
          "metadata": {},
          "execution_count": 157
        }
      ]
    },
    {
      "cell_type": "code",
      "metadata": {
        "colab": {
          "base_uri": "https://localhost:8080/"
        },
        "id": "SGG4xo-tPa9f",
        "outputId": "947a87f6-2269-48fa-bd93-849d30583310"
      },
      "source": [
        "# There are so many leagues in France. Maybe this column is not well defined\n",
        "\n",
        "scorers['League'].unique()"
      ],
      "execution_count": null,
      "outputs": [
        {
          "output_type": "execute_result",
          "data": {
            "text/plain": [
              "array(['La Liga', 'Serie A', 'Bundesliga', 'Premier League',\n",
              "       'Campeonato Brasileiro SÃ©rie A', 'France Ligue 11',\n",
              "       'France Ligue 20', 'France Ligue 2', 'France Ligue 12',\n",
              "       'France Ligue 9', 'France Ligue 15', 'France Ligue 6',\n",
              "       'France Ligue 3', 'France Ligue 16', 'France Ligue 14',\n",
              "       'France Ligue 4', 'France Ligue 1', 'France Ligue 10',\n",
              "       'France Ligue 7', 'France Ligue 13', 'France Ligue 8',\n",
              "       'France Ligue 5', 'France Ligue 19', 'France Ligue 18',\n",
              "       'France Ligue 17', 'MLS', 'Primeira Liga', 'Eredivisie'],\n",
              "      dtype=object)"
            ]
          },
          "metadata": {},
          "execution_count": 158
        }
      ]
    },
    {
      "cell_type": "code",
      "metadata": {
        "id": "t2-ixujmbk7r"
      },
      "source": [
        "# Convert None to NaN for club's variable\n",
        "\n",
        "scorers['Club'].replace(\"None\", np.nan, inplace=True)"
      ],
      "execution_count": null,
      "outputs": []
    },
    {
      "cell_type": "code",
      "metadata": {
        "colab": {
          "base_uri": "https://localhost:8080/"
        },
        "id": "ydYPYWVSQX-c",
        "outputId": "37ddb535-283f-443c-d5a8-416f10d6c415"
      },
      "source": [
        "# Types of variables\n",
        "\n",
        "scorers.dtypes"
      ],
      "execution_count": null,
      "outputs": [
        {
          "output_type": "execute_result",
          "data": {
            "text/plain": [
              "Country                     object\n",
              "League                      object\n",
              "Club                        object\n",
              "Player Names                object\n",
              "Matches_Played               int64\n",
              "Substitution                 int64\n",
              "Mins                         int64\n",
              "Goals                        int64\n",
              "xG                         float64\n",
              "xG Per Avg Match           float64\n",
              "Shots                        int64\n",
              "OnTarget                     int64\n",
              "Shots Per Avg Match        float64\n",
              "On Target Per Avg Match    float64\n",
              "Year                         int64\n",
              "dtype: object"
            ]
          },
          "metadata": {},
          "execution_count": 160
        }
      ]
    },
    {
      "cell_type": "code",
      "metadata": {
        "colab": {
          "base_uri": "https://localhost:8080/",
          "height": 300
        },
        "id": "YOVtO8cqRplN",
        "outputId": "01c37e53-6f7f-4ed2-89fd-857832e3a10e"
      },
      "source": [
        "# Numercal Variables Description\n",
        "\n",
        "scorers.describe().round(2)"
      ],
      "execution_count": null,
      "outputs": [
        {
          "output_type": "execute_result",
          "data": {
            "text/html": [
              "<div>\n",
              "<style scoped>\n",
              "    .dataframe tbody tr th:only-of-type {\n",
              "        vertical-align: middle;\n",
              "    }\n",
              "\n",
              "    .dataframe tbody tr th {\n",
              "        vertical-align: top;\n",
              "    }\n",
              "\n",
              "    .dataframe thead th {\n",
              "        text-align: right;\n",
              "    }\n",
              "</style>\n",
              "<table border=\"1\" class=\"dataframe\">\n",
              "  <thead>\n",
              "    <tr style=\"text-align: right;\">\n",
              "      <th></th>\n",
              "      <th>Matches_Played</th>\n",
              "      <th>Substitution</th>\n",
              "      <th>Mins</th>\n",
              "      <th>Goals</th>\n",
              "      <th>xG</th>\n",
              "      <th>xG Per Avg Match</th>\n",
              "      <th>Shots</th>\n",
              "      <th>OnTarget</th>\n",
              "      <th>Shots Per Avg Match</th>\n",
              "      <th>On Target Per Avg Match</th>\n",
              "      <th>Year</th>\n",
              "    </tr>\n",
              "  </thead>\n",
              "  <tbody>\n",
              "    <tr>\n",
              "      <th>count</th>\n",
              "      <td>660.00</td>\n",
              "      <td>660.00</td>\n",
              "      <td>660.00</td>\n",
              "      <td>660.00</td>\n",
              "      <td>660.00</td>\n",
              "      <td>660.00</td>\n",
              "      <td>660.00</td>\n",
              "      <td>660.00</td>\n",
              "      <td>660.00</td>\n",
              "      <td>660.00</td>\n",
              "      <td>660.00</td>\n",
              "    </tr>\n",
              "    <tr>\n",
              "      <th>mean</th>\n",
              "      <td>22.37</td>\n",
              "      <td>3.22</td>\n",
              "      <td>2071.42</td>\n",
              "      <td>11.78</td>\n",
              "      <td>10.09</td>\n",
              "      <td>0.48</td>\n",
              "      <td>64.18</td>\n",
              "      <td>28.37</td>\n",
              "      <td>2.95</td>\n",
              "      <td>1.32</td>\n",
              "      <td>2018.36</td>\n",
              "    </tr>\n",
              "    <tr>\n",
              "      <th>std</th>\n",
              "      <td>9.75</td>\n",
              "      <td>3.84</td>\n",
              "      <td>900.60</td>\n",
              "      <td>5.98</td>\n",
              "      <td>5.72</td>\n",
              "      <td>0.19</td>\n",
              "      <td>34.94</td>\n",
              "      <td>16.36</td>\n",
              "      <td>0.91</td>\n",
              "      <td>0.47</td>\n",
              "      <td>1.37</td>\n",
              "    </tr>\n",
              "    <tr>\n",
              "      <th>min</th>\n",
              "      <td>2.00</td>\n",
              "      <td>0.00</td>\n",
              "      <td>264.00</td>\n",
              "      <td>2.00</td>\n",
              "      <td>0.71</td>\n",
              "      <td>0.07</td>\n",
              "      <td>5.00</td>\n",
              "      <td>2.00</td>\n",
              "      <td>0.80</td>\n",
              "      <td>0.24</td>\n",
              "      <td>2016.00</td>\n",
              "    </tr>\n",
              "    <tr>\n",
              "      <th>25%</th>\n",
              "      <td>14.00</td>\n",
              "      <td>0.00</td>\n",
              "      <td>1363.50</td>\n",
              "      <td>8.00</td>\n",
              "      <td>6.10</td>\n",
              "      <td>0.34</td>\n",
              "      <td>37.75</td>\n",
              "      <td>17.00</td>\n",
              "      <td>2.34</td>\n",
              "      <td>0.98</td>\n",
              "      <td>2017.00</td>\n",
              "    </tr>\n",
              "    <tr>\n",
              "      <th>50%</th>\n",
              "      <td>24.00</td>\n",
              "      <td>2.00</td>\n",
              "      <td>2245.50</td>\n",
              "      <td>11.00</td>\n",
              "      <td>9.28</td>\n",
              "      <td>0.44</td>\n",
              "      <td>62.00</td>\n",
              "      <td>26.00</td>\n",
              "      <td>2.84</td>\n",
              "      <td>1.25</td>\n",
              "      <td>2019.00</td>\n",
              "    </tr>\n",
              "    <tr>\n",
              "      <th>75%</th>\n",
              "      <td>31.00</td>\n",
              "      <td>5.00</td>\n",
              "      <td>2822.00</td>\n",
              "      <td>14.00</td>\n",
              "      <td>13.25</td>\n",
              "      <td>0.57</td>\n",
              "      <td>86.00</td>\n",
              "      <td>37.00</td>\n",
              "      <td>3.38</td>\n",
              "      <td>1.54</td>\n",
              "      <td>2019.00</td>\n",
              "    </tr>\n",
              "    <tr>\n",
              "      <th>max</th>\n",
              "      <td>38.00</td>\n",
              "      <td>26.00</td>\n",
              "      <td>4177.00</td>\n",
              "      <td>37.00</td>\n",
              "      <td>32.54</td>\n",
              "      <td>1.35</td>\n",
              "      <td>208.00</td>\n",
              "      <td>102.00</td>\n",
              "      <td>7.20</td>\n",
              "      <td>3.63</td>\n",
              "      <td>2020.00</td>\n",
              "    </tr>\n",
              "  </tbody>\n",
              "</table>\n",
              "</div>"
            ],
            "text/plain": [
              "       Matches_Played  Substitution   ...  On Target Per Avg Match     Year\n",
              "count          660.00         660.00  ...                   660.00   660.00\n",
              "mean            22.37           3.22  ...                     1.32  2018.36\n",
              "std              9.75           3.84  ...                     0.47     1.37\n",
              "min              2.00           0.00  ...                     0.24  2016.00\n",
              "25%             14.00           0.00  ...                     0.98  2017.00\n",
              "50%             24.00           2.00  ...                     1.25  2019.00\n",
              "75%             31.00           5.00  ...                     1.54  2019.00\n",
              "max             38.00          26.00  ...                     3.63  2020.00\n",
              "\n",
              "[8 rows x 11 columns]"
            ]
          },
          "metadata": {},
          "execution_count": 161
        }
      ]
    },
    {
      "cell_type": "code",
      "metadata": {
        "colab": {
          "base_uri": "https://localhost:8080/",
          "height": 175
        },
        "id": "Bbq2jf9cZXHt",
        "outputId": "5481014a-6ecc-4bab-9c84-6b5ce4f412cf"
      },
      "source": [
        "# Object Variables Description\n",
        "\n",
        "scorers.describe(include='object').round(2)"
      ],
      "execution_count": null,
      "outputs": [
        {
          "output_type": "execute_result",
          "data": {
            "text/html": [
              "<div>\n",
              "<style scoped>\n",
              "    .dataframe tbody tr th:only-of-type {\n",
              "        vertical-align: middle;\n",
              "    }\n",
              "\n",
              "    .dataframe tbody tr th {\n",
              "        vertical-align: top;\n",
              "    }\n",
              "\n",
              "    .dataframe thead th {\n",
              "        text-align: right;\n",
              "    }\n",
              "</style>\n",
              "<table border=\"1\" class=\"dataframe\">\n",
              "  <thead>\n",
              "    <tr style=\"text-align: right;\">\n",
              "      <th></th>\n",
              "      <th>Country</th>\n",
              "      <th>League</th>\n",
              "      <th>Club</th>\n",
              "      <th>Player Names</th>\n",
              "    </tr>\n",
              "  </thead>\n",
              "  <tbody>\n",
              "    <tr>\n",
              "      <th>count</th>\n",
              "      <td>660</td>\n",
              "      <td>660</td>\n",
              "      <td>626</td>\n",
              "      <td>660</td>\n",
              "    </tr>\n",
              "    <tr>\n",
              "      <th>unique</th>\n",
              "      <td>9</td>\n",
              "      <td>28</td>\n",
              "      <td>179</td>\n",
              "      <td>444</td>\n",
              "    </tr>\n",
              "    <tr>\n",
              "      <th>top</th>\n",
              "      <td>Italy</td>\n",
              "      <td>Serie A</td>\n",
              "      <td>(PSG)</td>\n",
              "      <td>Robert Lewandowski</td>\n",
              "    </tr>\n",
              "    <tr>\n",
              "      <th>freq</th>\n",
              "      <td>100</td>\n",
              "      <td>100</td>\n",
              "      <td>14</td>\n",
              "      <td>5</td>\n",
              "    </tr>\n",
              "  </tbody>\n",
              "</table>\n",
              "</div>"
            ],
            "text/plain": [
              "       Country   League   Club        Player Names\n",
              "count      660      660    626                 660\n",
              "unique       9       28    179                 444\n",
              "top      Italy  Serie A  (PSG)  Robert Lewandowski\n",
              "freq       100      100     14                   5"
            ]
          },
          "metadata": {},
          "execution_count": 162
        }
      ]
    },
    {
      "cell_type": "code",
      "metadata": {
        "colab": {
          "base_uri": "https://localhost:8080/"
        },
        "id": "555sG2QuTDn-",
        "outputId": "432cb474-ef90-46c7-8405-e201af7c8e3a"
      },
      "source": [
        "# There are 34 Nulls in club's variable\n",
        "\n",
        "scorers.isna().sum()"
      ],
      "execution_count": null,
      "outputs": [
        {
          "output_type": "execute_result",
          "data": {
            "text/plain": [
              "Country                     0\n",
              "League                      0\n",
              "Club                       34\n",
              "Player Names                0\n",
              "Matches_Played              0\n",
              "Substitution                0\n",
              "Mins                        0\n",
              "Goals                       0\n",
              "xG                          0\n",
              "xG Per Avg Match            0\n",
              "Shots                       0\n",
              "OnTarget                    0\n",
              "Shots Per Avg Match         0\n",
              "On Target Per Avg Match     0\n",
              "Year                        0\n",
              "dtype: int64"
            ]
          },
          "metadata": {},
          "execution_count": 163
        }
      ]
    },
    {
      "cell_type": "markdown",
      "metadata": {
        "id": "W8YqQ6j-WCk9"
      },
      "source": [
        "## **EXERCISE 1**\n",
        "\n",
        "**STATEMENT:** Grab a sports-themed dataset you like. Performs a sampling of the data generating a simple random sample and a systematic sample.\n"
      ]
    },
    {
      "cell_type": "code",
      "metadata": {
        "colab": {
          "base_uri": "https://localhost:8080/"
        },
        "id": "wIAkDmAhSeyq",
        "outputId": "6b0e505c-192c-4954-d5c0-226640fc5b72"
      },
      "source": [
        "# Our variable of interest is 'goals'\n",
        "\n",
        "scorers['Goals'].describe().round(2)"
      ],
      "execution_count": null,
      "outputs": [
        {
          "output_type": "execute_result",
          "data": {
            "text/plain": [
              "count    660.00\n",
              "mean      11.78\n",
              "std        5.98\n",
              "min        2.00\n",
              "25%        8.00\n",
              "50%       11.00\n",
              "75%       14.00\n",
              "max       37.00\n",
              "Name: Goals, dtype: float64"
            ]
          },
          "metadata": {},
          "execution_count": 164
        }
      ]
    },
    {
      "cell_type": "markdown",
      "metadata": {
        "id": "rl4oo-R2hPbt"
      },
      "source": [
        "**OBSERVATIONS**\n",
        "\n",
        "+ The maximum number of goals that a player has scored in a season has been: **37**\n",
        "\n",
        "+ The minimum number of goals that a player has scored in a season has been: **2**\n",
        "\n",
        "+ The median of goals for the forwards is 11 goals, so 50% of the observations are above (scoring more or equal than 11 goals per season) and the other 50% of the observations are below (scoring less or equal of 11 goals per season)\n",
        "\n",
        "+ 25% of observations are 8 goals per season. That means that 25% of the observations below have scored 8 goals or less per season.\n",
        "\n",
        "+ 75% of the observations are 14 goals per season. That means that 75% of the observations below have scored 14 goals or less per season.\n",
        "\n",
        "+ The average of goals of the forwards per season is: **11.78**\n"
      ]
    },
    {
      "cell_type": "code",
      "metadata": {
        "colab": {
          "base_uri": "https://localhost:8080/",
          "height": 462
        },
        "id": "J3RmqRxJDORY",
        "outputId": "7a534f3a-56b2-4226-c000-03895c6b779d"
      },
      "source": [
        "# Percentage of Leagues by country\n",
        "\n",
        "# DATA\n",
        "league_country = round(scorers['Country'].value_counts(normalize = True)*100, 2)\n",
        "league_country_values = league_country.values\n",
        "league_country_index = league_country.index\n",
        "\n",
        "# CHART\n",
        "fig = plt.figure(figsize=(12,7))\n",
        "colors = ['#EE6055','#60D394','#AAF683','#FFD97D','#FF9B85','#FF00FF','#00FFFF','#FF99FF','#CCFFCC']\n",
        "plt.pie(league_country_values, labels= league_country_index, startangle=120, autopct= '%0.1f %%', colors = colors)\n",
        "plt.legend(title = 'Country Leagues', loc = 'right', bbox_to_anchor = (1.5, 0.7))\n",
        "plt.suptitle('Percentage of Leagues by Country')\n",
        "plt.show()"
      ],
      "execution_count": null,
      "outputs": [
        {
          "output_type": "display_data",
          "data": {
            "image/png": "[encoded data removed]",
            "text/plain": [
              "<Figure size 864x504 with 1 Axes>"
            ]
          },
          "metadata": {}
        }
      ]
    },
    {
      "cell_type": "markdown",
      "metadata": {
        "id": "Gdq6P0UoK1k_"
      },
      "source": [
        "**OBSERVATIONS**\n",
        "\n",
        "+ Before starting with the samplings, it is interesting to see the % of leagues that exist depending on the country in which players are played. In this way we will be able to see the changes that occur in the sampling and the repercussions that one type of sampling or another may have.\n",
        "\n",
        "+ In general, we observe how, for our DataFrame, the scorers play in the German, Italian, Spanish and Brazilian leagues, prevailing over the rest.Portuguese, USA and Netherlands leagues have the lowest levels of important forwards. \n"
      ]
    },
    {
      "cell_type": "markdown",
      "metadata": {
        "id": "ktC_jWTDaTsl"
      },
      "source": [
        "### **SIMPLE RANDOM SAMPLE**"
      ]
    },
    {
      "cell_type": "markdown",
      "metadata": {
        "id": "ZBlvVH0Nk7k2"
      },
      "source": [
        "* The objective of this sampling method is to make a sample with **n** observations that we ourselves decide (randomly). The positive thing about this sampling is that each observation has the same chance of being selected.\n",
        "\n"
      ]
    },
    {
      "cell_type": "code",
      "metadata": {
        "colab": {
          "base_uri": "https://localhost:8080/",
          "height": 293
        },
        "id": "5wflnK0ydT-V",
        "outputId": "cd4a626e-8d96-4269-e674-1605c48ef953"
      },
      "source": [
        "# Simple Random Sample\n",
        "\n",
        "simple_random_sample = scorers.sample(n = 200)\n",
        "simple_random_sample.head()"
      ],
      "execution_count": null,
      "outputs": [
        {
          "output_type": "execute_result",
          "data": {
            "text/html": [
              "<div>\n",
              "<style scoped>\n",
              "    .dataframe tbody tr th:only-of-type {\n",
              "        vertical-align: middle;\n",
              "    }\n",
              "\n",
              "    .dataframe tbody tr th {\n",
              "        vertical-align: top;\n",
              "    }\n",
              "\n",
              "    .dataframe thead th {\n",
              "        text-align: right;\n",
              "    }\n",
              "</style>\n",
              "<table border=\"1\" class=\"dataframe\">\n",
              "  <thead>\n",
              "    <tr style=\"text-align: right;\">\n",
              "      <th></th>\n",
              "      <th>Country</th>\n",
              "      <th>League</th>\n",
              "      <th>Club</th>\n",
              "      <th>Player Names</th>\n",
              "      <th>Matches_Played</th>\n",
              "      <th>Substitution</th>\n",
              "      <th>Mins</th>\n",
              "      <th>Goals</th>\n",
              "      <th>xG</th>\n",
              "      <th>xG Per Avg Match</th>\n",
              "      <th>Shots</th>\n",
              "      <th>OnTarget</th>\n",
              "      <th>Shots Per Avg Match</th>\n",
              "      <th>On Target Per Avg Match</th>\n",
              "      <th>Year</th>\n",
              "    </tr>\n",
              "  </thead>\n",
              "  <tbody>\n",
              "    <tr>\n",
              "      <th>599</th>\n",
              "      <td>France</td>\n",
              "      <td>France Ligue 7</td>\n",
              "      <td>(LEN)</td>\n",
              "      <td>Gael Kakuta</td>\n",
              "      <td>10</td>\n",
              "      <td>1</td>\n",
              "      <td>786</td>\n",
              "      <td>5</td>\n",
              "      <td>4.14</td>\n",
              "      <td>0.50</td>\n",
              "      <td>18</td>\n",
              "      <td>6</td>\n",
              "      <td>2.18</td>\n",
              "      <td>0.73</td>\n",
              "      <td>2020</td>\n",
              "    </tr>\n",
              "    <tr>\n",
              "      <th>312</th>\n",
              "      <td>USA</td>\n",
              "      <td>MLS</td>\n",
              "      <td>(TOR)</td>\n",
              "      <td>Alejandro Pozuelo</td>\n",
              "      <td>32</td>\n",
              "      <td>2</td>\n",
              "      <td>3104</td>\n",
              "      <td>14</td>\n",
              "      <td>9.80</td>\n",
              "      <td>0.30</td>\n",
              "      <td>84</td>\n",
              "      <td>38</td>\n",
              "      <td>2.57</td>\n",
              "      <td>1.16</td>\n",
              "      <td>2019</td>\n",
              "    </tr>\n",
              "    <tr>\n",
              "      <th>82</th>\n",
              "      <td>Brazil</td>\n",
              "      <td>Campeonato Brasileiro SÃ©rie A</td>\n",
              "      <td>NaN</td>\n",
              "      <td>Robinho</td>\n",
              "      <td>26</td>\n",
              "      <td>4</td>\n",
              "      <td>2234</td>\n",
              "      <td>12</td>\n",
              "      <td>8.00</td>\n",
              "      <td>0.34</td>\n",
              "      <td>49</td>\n",
              "      <td>22</td>\n",
              "      <td>2.08</td>\n",
              "      <td>0.94</td>\n",
              "      <td>2016</td>\n",
              "    </tr>\n",
              "    <tr>\n",
              "      <th>89</th>\n",
              "      <td>Brazil</td>\n",
              "      <td>Campeonato Brasileiro SÃ©rie A</td>\n",
              "      <td>NaN</td>\n",
              "      <td>Grafite</td>\n",
              "      <td>29</td>\n",
              "      <td>2</td>\n",
              "      <td>2511</td>\n",
              "      <td>13</td>\n",
              "      <td>14.01</td>\n",
              "      <td>0.53</td>\n",
              "      <td>64</td>\n",
              "      <td>34</td>\n",
              "      <td>2.42</td>\n",
              "      <td>1.29</td>\n",
              "      <td>2016</td>\n",
              "    </tr>\n",
              "    <tr>\n",
              "      <th>192</th>\n",
              "      <td>Spain</td>\n",
              "      <td>La Liga</td>\n",
              "      <td>(SOC)</td>\n",
              "      <td>Mikel Oyarzabal</td>\n",
              "      <td>36</td>\n",
              "      <td>1</td>\n",
              "      <td>3300</td>\n",
              "      <td>13</td>\n",
              "      <td>11.12</td>\n",
              "      <td>0.32</td>\n",
              "      <td>66</td>\n",
              "      <td>28</td>\n",
              "      <td>1.90</td>\n",
              "      <td>0.81</td>\n",
              "      <td>2018</td>\n",
              "    </tr>\n",
              "  </tbody>\n",
              "</table>\n",
              "</div>"
            ],
            "text/plain": [
              "    Country                          League  ... On Target Per Avg Match  Year\n",
              "599  France                  France Ligue 7  ...                    0.73  2020\n",
              "312     USA                             MLS  ...                    1.16  2019\n",
              "82   Brazil  Campeonato Brasileiro SÃ©rie A  ...                    0.94  2016\n",
              "89   Brazil  Campeonato Brasileiro SÃ©rie A  ...                    1.29  2016\n",
              "192   Spain                         La Liga  ...                    0.81  2018\n",
              "\n",
              "[5 rows x 15 columns]"
            ]
          },
          "metadata": {},
          "execution_count": 166
        }
      ]
    },
    {
      "cell_type": "code",
      "metadata": {
        "colab": {
          "base_uri": "https://localhost:8080/"
        },
        "id": "uTftDT6bN6Bu",
        "outputId": "38eb50b4-2353-457d-f82a-8c4f2d213b49"
      },
      "source": [
        "# Shape. 200 rows and 15 columns\n",
        "\n",
        "simple_random_sample.shape"
      ],
      "execution_count": null,
      "outputs": [
        {
          "output_type": "execute_result",
          "data": {
            "text/plain": [
              "(200, 15)"
            ]
          },
          "metadata": {},
          "execution_count": 167
        }
      ]
    },
    {
      "cell_type": "code",
      "metadata": {
        "colab": {
          "base_uri": "https://localhost:8080/"
        },
        "id": "fTKhV0L3Nj3d",
        "outputId": "208d8424-da6f-4896-b8e1-5a4155962aa6"
      },
      "source": [
        "# Comparison between means\n",
        "\n",
        "scorers_mean = round(scorers.Goals.mean(),2) # Original DataSet\n",
        "simple_random_sample_mean = round(simple_random_sample.Goals.mean(),2) # SRS DataSet\n",
        "print (f'Original Mean is: {scorers_mean}\\nSimple Random Sample Mean is: {simple_random_sample_mean}\\n')\n",
        "\n",
        "# Relative Error\n",
        "relative_error_mean_1 = round((abs((scorers_mean-simple_random_sample_mean))/simple_random_sample_mean)*100, 3)\n",
        "print(f'Relative error of the averages is: {relative_error_mean_1}%')"
      ],
      "execution_count": null,
      "outputs": [
        {
          "output_type": "stream",
          "name": "stdout",
          "text": [
            "Original Mean is: 11.78\n",
            "Simple Random Sample Mean is: 11.84\n",
            "\n",
            "Relative error of the averages is: 0.507%\n"
          ]
        }
      ]
    },
    {
      "cell_type": "code",
      "metadata": {
        "id": "G1M_RvXld0ZJ",
        "colab": {
          "base_uri": "https://localhost:8080/",
          "height": 462
        },
        "outputId": "2a50152c-7353-40c4-bc11-44894724b2e5"
      },
      "source": [
        "# Now we can contrast the differences that SRS has with the original one\n",
        "\n",
        "# DATA\n",
        "league_country_srs = round(simple_random_sample['Country'].value_counts(normalize = True)*100, 2)\n",
        "league_country_values_srs = league_country_srs.values\n",
        "league_country_index_srs = league_country_srs.index\n",
        "\n",
        "# CHART\n",
        "fig = plt.figure(figsize=(12,7))\n",
        "colors = ['#EE6055','#60D394','#AAF683','#FFD97D','#FF9B85','#FF00FF','#00FFFF','#FF99FF','#CCFFCC']\n",
        "plt.pie(league_country_values_srs, labels= league_country_index_srs, startangle=120, autopct= '%0.2f %%', colors = colors)\n",
        "plt.legend(title = 'Country Leagues', loc = 'right', bbox_to_anchor = (1.5, 0.7))\n",
        "plt.suptitle('Percentage of scorers by league\\'s country with Systematic Sampling (SRS)')\n",
        "plt.show()"
      ],
      "execution_count": null,
      "outputs": [
        {
          "output_type": "display_data",
          "data": {
            "image/png": "[encoded data removed]",
            "text/plain": [
              "<Figure size 864x504 with 1 Axes>"
            ]
          },
          "metadata": {}
        }
      ]
    },
    {
      "cell_type": "markdown",
      "metadata": {
        "id": "e3Igaz-sRJON"
      },
      "source": [
        "**OBSERVATIONS**\n",
        "\n",
        "+ We can see how the pecentage have changed after apply sampling by SRS:\n",
        "\n",
        " + The main league scorers remain the same as for the original DataFrame; Germany, Italy, Spain and England but with different weights except the Brazil league that has gained more weight after applying the sampling.\n",
        "\n",
        "  + Leagues with fewer scorers remain the same as in the original DatFrame but with different weights.\n",
        "\n",
        "+ We can see how the means have not changed much after applying the sampling. We can see at a glance how all the countries are represented in the DataFrame and with weights similar to the original. Therefore, the bias is low with this method of sampling."
      ]
    },
    {
      "cell_type": "code",
      "metadata": {
        "id": "Gibe36lmOOu8"
      },
      "source": [
        "# Save SRS.\n",
        "\n",
        "simple_random_sample.to_csv('/content/drive/MyDrive/IT Academy - Data Science/Sprint 6. Mètodes de Mostreig/S06 T01 Tasca mètodes de mostreig/Samples/Simple_Random_Sample.csv')"
      ],
      "execution_count": null,
      "outputs": []
    },
    {
      "cell_type": "markdown",
      "metadata": {
        "id": "HnM1SbX1oawY"
      },
      "source": [
        "### **SYSTEMATIC SAMPLING**\n",
        "\n",
        "The first individual is randomly chosen and then the others are selected using a fixed sampling interval.\n"
      ]
    },
    {
      "cell_type": "code",
      "metadata": {
        "colab": {
          "base_uri": "https://localhost:8080/",
          "height": 258
        },
        "id": "JZqpN5Zknrwu",
        "outputId": "b7e5e12a-8456-4024-ffac-ff11045fdb53"
      },
      "source": [
        "# Systematic Sampling \n",
        "\n",
        "start_step = np.random.randint(0,10) # The sampling start (number between 0-10)\n",
        "step = len(scorers)/220 # We decide the number (110)\n",
        "\n",
        "# Create a function that returns a systematic sample\n",
        "\n",
        "def systematic_sampling(data_frame, start_step, step):\n",
        "\n",
        "  indexes = np.arange(start_step, len(scorers), step = step)\n",
        "  systematic_sample = scorers.iloc[indexes] # Return the Dataframe with the indexes introduced\n",
        "  return systematic_sample\n",
        "\n",
        "systematic_sample = systematic_sampling(scorers, start_step, step)\n",
        "systematic_sample.head()"
      ],
      "execution_count": null,
      "outputs": [
        {
          "output_type": "execute_result",
          "data": {
            "text/html": [
              "<div>\n",
              "<style scoped>\n",
              "    .dataframe tbody tr th:only-of-type {\n",
              "        vertical-align: middle;\n",
              "    }\n",
              "\n",
              "    .dataframe tbody tr th {\n",
              "        vertical-align: top;\n",
              "    }\n",
              "\n",
              "    .dataframe thead th {\n",
              "        text-align: right;\n",
              "    }\n",
              "</style>\n",
              "<table border=\"1\" class=\"dataframe\">\n",
              "  <thead>\n",
              "    <tr style=\"text-align: right;\">\n",
              "      <th></th>\n",
              "      <th>Country</th>\n",
              "      <th>League</th>\n",
              "      <th>Club</th>\n",
              "      <th>Player Names</th>\n",
              "      <th>Matches_Played</th>\n",
              "      <th>Substitution</th>\n",
              "      <th>Mins</th>\n",
              "      <th>Goals</th>\n",
              "      <th>xG</th>\n",
              "      <th>xG Per Avg Match</th>\n",
              "      <th>Shots</th>\n",
              "      <th>OnTarget</th>\n",
              "      <th>Shots Per Avg Match</th>\n",
              "      <th>On Target Per Avg Match</th>\n",
              "      <th>Year</th>\n",
              "    </tr>\n",
              "  </thead>\n",
              "  <tbody>\n",
              "    <tr>\n",
              "      <th>4</th>\n",
              "      <td>Spain</td>\n",
              "      <td>La Liga</td>\n",
              "      <td>(VAL)</td>\n",
              "      <td>Kevin Gameiro</td>\n",
              "      <td>21</td>\n",
              "      <td>10</td>\n",
              "      <td>1745</td>\n",
              "      <td>13</td>\n",
              "      <td>10.65</td>\n",
              "      <td>0.58</td>\n",
              "      <td>50</td>\n",
              "      <td>23</td>\n",
              "      <td>2.72</td>\n",
              "      <td>1.25</td>\n",
              "      <td>2016</td>\n",
              "    </tr>\n",
              "    <tr>\n",
              "      <th>7</th>\n",
              "      <td>Spain</td>\n",
              "      <td>La Liga</td>\n",
              "      <td>(PSG)</td>\n",
              "      <td>Neymar</td>\n",
              "      <td>30</td>\n",
              "      <td>0</td>\n",
              "      <td>2694</td>\n",
              "      <td>13</td>\n",
              "      <td>13.33</td>\n",
              "      <td>0.47</td>\n",
              "      <td>105</td>\n",
              "      <td>42</td>\n",
              "      <td>3.70</td>\n",
              "      <td>1.48</td>\n",
              "      <td>2016</td>\n",
              "    </tr>\n",
              "    <tr>\n",
              "      <th>10</th>\n",
              "      <td>Spain</td>\n",
              "      <td>La Liga</td>\n",
              "      <td>NaN</td>\n",
              "      <td>Aduriz</td>\n",
              "      <td>27</td>\n",
              "      <td>5</td>\n",
              "      <td>2480</td>\n",
              "      <td>16</td>\n",
              "      <td>15.92</td>\n",
              "      <td>0.61</td>\n",
              "      <td>85</td>\n",
              "      <td>45</td>\n",
              "      <td>3.26</td>\n",
              "      <td>1.72</td>\n",
              "      <td>2016</td>\n",
              "    </tr>\n",
              "    <tr>\n",
              "      <th>13</th>\n",
              "      <td>Spain</td>\n",
              "      <td>La Liga</td>\n",
              "      <td>(VIL)</td>\n",
              "      <td>Gerard Moreno</td>\n",
              "      <td>37</td>\n",
              "      <td>0</td>\n",
              "      <td>3361</td>\n",
              "      <td>13</td>\n",
              "      <td>8.49</td>\n",
              "      <td>0.24</td>\n",
              "      <td>82</td>\n",
              "      <td>32</td>\n",
              "      <td>2.32</td>\n",
              "      <td>0.90</td>\n",
              "      <td>2016</td>\n",
              "    </tr>\n",
              "    <tr>\n",
              "      <th>16</th>\n",
              "      <td>Spain</td>\n",
              "      <td>La Liga</td>\n",
              "      <td>(SOC)</td>\n",
              "      <td>Willian Jose</td>\n",
              "      <td>27</td>\n",
              "      <td>1</td>\n",
              "      <td>2102</td>\n",
              "      <td>12</td>\n",
              "      <td>8.41</td>\n",
              "      <td>0.38</td>\n",
              "      <td>69</td>\n",
              "      <td>29</td>\n",
              "      <td>3.12</td>\n",
              "      <td>1.31</td>\n",
              "      <td>2016</td>\n",
              "    </tr>\n",
              "  </tbody>\n",
              "</table>\n",
              "</div>"
            ],
            "text/plain": [
              "   Country   League   Club  ... Shots Per Avg Match  On Target Per Avg Match  Year\n",
              "4    Spain  La Liga  (VAL)  ...                2.72                     1.25  2016\n",
              "7    Spain  La Liga  (PSG)  ...                3.70                     1.48  2016\n",
              "10   Spain  La Liga    NaN  ...                3.26                     1.72  2016\n",
              "13   Spain  La Liga  (VIL)  ...                2.32                     0.90  2016\n",
              "16   Spain  La Liga  (SOC)  ...                3.12                     1.31  2016\n",
              "\n",
              "[5 rows x 15 columns]"
            ]
          },
          "metadata": {},
          "execution_count": 171
        }
      ]
    },
    {
      "cell_type": "markdown",
      "metadata": {
        "id": "XxzjpuLrtjCY"
      },
      "source": [
        "**METHODOLOGY APPLIED**\n",
        "\n",
        "+ We have created a random number between 0-10 to choose the first observation / individual. Then we create a fixed interval based on the total number of observations we have and since we have 660 observations we have chosen the number 110. So that line break occurs every 6 observations / individuals until we reach the end of the DataFrame. That is, 660/110 = 6.\n",
        "\n"
      ]
    },
    {
      "cell_type": "code",
      "metadata": {
        "id": "6Sb3gyQjNON1",
        "colab": {
          "base_uri": "https://localhost:8080/"
        },
        "outputId": "84a7a575-625c-4f6d-db1e-aa987ce471fe"
      },
      "source": [
        "# Shape. 228 rows and 15 columns\n",
        "systematic_sample.shape"
      ],
      "execution_count": null,
      "outputs": [
        {
          "output_type": "execute_result",
          "data": {
            "text/plain": [
              "(219, 15)"
            ]
          },
          "metadata": {},
          "execution_count": 172
        }
      ]
    },
    {
      "cell_type": "code",
      "metadata": {
        "colab": {
          "base_uri": "https://localhost:8080/"
        },
        "id": "EBHOSIiDSikz",
        "outputId": "643d807f-1573-419f-da35-c1b300407811"
      },
      "source": [
        "# Comparison between means\n",
        "\n",
        "systematic_sample_mean = round(systematic_sample.Goals.mean(),2) # Systematic mean\n",
        "print (f'Original Mean is: {scorers_mean}\\nSimple Random Sample Mean is: {systematic_sample_mean}\\n')\n",
        "\n",
        "# Relative Error\n",
        "relative_error_mean_2 = round((abs((scorers_mean-systematic_sample_mean))/systematic_sample_mean)*100, 3)\n",
        "print(f'Relative error of the averages is: {relative_error_mean_2}%')"
      ],
      "execution_count": null,
      "outputs": [
        {
          "output_type": "stream",
          "name": "stdout",
          "text": [
            "Original Mean is: 11.78\n",
            "Simple Random Sample Mean is: 11.3\n",
            "\n",
            "Relative error of the averages is: 4.248%\n"
          ]
        }
      ]
    },
    {
      "cell_type": "code",
      "metadata": {
        "colab": {
          "base_uri": "https://localhost:8080/",
          "height": 277
        },
        "id": "2xkmNezKSk2b",
        "outputId": "b2a55603-0fb1-485e-cc3e-eb9c6719156e"
      },
      "source": [
        "# Now we can contrast the differences that Systematic Sampling has with the original one\n",
        "\n",
        "import squarify\n",
        "\n",
        "# DATA\n",
        "league_country_ss = round(systematic_sample['Country'].value_counts(normalize=True)*100,2)\n",
        "league_country_values_ss = league_country_ss.values\n",
        "league_country_index_ss = league_country_ss.index\n",
        "\n",
        "# CHART\n",
        "colors = ['#EE6055','#60D394','#AAF683','#FFD97D','#FF9B85','#FF00FF','#00FFFF','#FF99FF','#CCFFCC']\n",
        "squarify.plot(sizes = league_country_values_ss, label = league_country_index_ss, alpha = 1.0, color= colors, pad = True)\n",
        "plt.axis('off')\n",
        "plt.suptitle('Percentage of scorers by league\\'s country with Systematic Sampling')\n",
        "plt.show()"
      ],
      "execution_count": null,
      "outputs": [
        {
          "output_type": "display_data",
          "data": {
            "image/png": "[encoded data removed]",
            "text/plain": [
              "<Figure size 432x288 with 1 Axes>"
            ]
          },
          "metadata": {
            "needs_background": "light"
          }
        }
      ]
    },
    {
      "cell_type": "markdown",
      "metadata": {
        "id": "YXvpnRSA-qnj"
      },
      "source": [
        "**OBSERVATIONS**\n",
        "\n",
        "+ We can see how has changed the final result after applying systematic sampling:\n",
        "\n",
        "    + We can see how the scorers of the large European leagues by countries including Brazil remain very similar to the original Dataframe after applying systematic sampling. In any case, France and England has incresead his %.\n",
        "\n",
        "    + Likewise, players from countries with fewer scorers remain very similar to the original Dataframe, with the percentages varying very little.\n",
        "\n",
        "+ In our exercise in particular, it seems that bias is relative low in the sampling, but it could be the case that there is an underlying pattern from which bias can lead.\n"
      ]
    },
    {
      "cell_type": "code",
      "metadata": {
        "id": "hLFnpsnxPB6w"
      },
      "source": [
        "# Save Systematic Sample\n",
        "\n",
        "systematic_sample.to_csv('/content/drive/MyDrive/IT Academy - Data Science/Sprint 6. Mètodes de Mostreig/S06 T01 Tasca mètodes de mostreig/Samples/Systematic_Sample.csv')"
      ],
      "execution_count": null,
      "outputs": []
    },
    {
      "cell_type": "markdown",
      "metadata": {
        "id": "EBxYo1wAtGGM"
      },
      "source": [
        "## **EXERCISE 2**\n",
        "\n",
        "**STATEMENT:** Continues with the sports theme data set and generates a stratified sample and a sample using SMOTE (Synthetic Minority Oversampling Technique)."
      ]
    },
    {
      "cell_type": "markdown",
      "metadata": {
        "id": "S_BuHwoGuiSm"
      },
      "source": [
        "### **STRATIFIED SAMPLE**\n",
        "\n",
        "+ To apply stratified sampling it is important to divide the population into subgroups based on some characteristic. For example, for our DataFrame we can divide it by the country where the leagues are played. In our case we have data divergences for each country, in case we had the same number of observations for each country it would not make sense to apply the stratified sampling, since we are interested in achieving a sample where each group is represented in the same proportion as the others.\n",
        "\n",
        "**Link method 1:** https://www.geeksforgeeks.org/stratified-sampling-in-pandas/\n",
        "\n",
        "**Link method 2:** https://scikit-learn.org/stable/modules/generated/sklearn.model_selection.train_test_split.html"
      ]
    },
    {
      "cell_type": "code",
      "metadata": {
        "id": "DuXKL5Hr5O_7",
        "colab": {
          "base_uri": "https://localhost:8080/"
        },
        "outputId": "9645e0ba-c360-4dad-85eb-221753002f53"
      },
      "source": [
        "# We divide by country\n",
        "\n",
        "print(scorers.Country.unique(),'\\n\\n',scorers.Country.value_counts())"
      ],
      "execution_count": null,
      "outputs": [
        {
          "output_type": "stream",
          "name": "stdout",
          "text": [
            "['Spain' 'Italy' 'Germany' 'England' 'Brazil' 'France' 'USA' 'Portugal '\n",
            " ' Netherlands'] \n",
            "\n",
            " Italy           100\n",
            "Spain           100\n",
            "Brazil          100\n",
            "Germany         100\n",
            "England          80\n",
            "France           60\n",
            " Netherlands     40\n",
            "Portugal         40\n",
            "USA              40\n",
            "Name: Country, dtype: int64\n"
          ]
        }
      ]
    },
    {
      "cell_type": "markdown",
      "metadata": {
        "id": "F0eQfQLl8NsU"
      },
      "source": [
        "**OBSERVATIONS**\n",
        "\n",
        "+ Espanya has 100 scorers belonging to the Spanish leagues\n",
        "+ Germany has 100 scorers from the German leagues\n",
        "+ Brazil has 100 scorers belonging to the Brazilian leagues\n",
        "+ Italy has 100 scorers belonging to the Italian leagues\n",
        "+ England has 80 scorers from the English leagues\n",
        "+ France has 60 scorers from the French leagues\n",
        "+ Netherlands has 40 scorers from the Dutch leagues\n",
        "+ USA has 40 top scorers from the North American leagues\n",
        "+ Portugal has 40 scorers belonging to the Portuguese leagues"
      ]
    },
    {
      "cell_type": "code",
      "metadata": {
        "id": "nemPQJEO5RVD",
        "colab": {
          "base_uri": "https://localhost:8080/",
          "height": 258
        },
        "outputId": "ba8c5ea7-e051-4bab-aa9d-4e44263fa90a"
      },
      "source": [
        "# Stratified Sample\n",
        "\n",
        "stratified_sample = scorers.groupby('Country', group_keys=False).apply(lambda x: x.sample(frac = 0.6))\n",
        "stratified_sample.head()"
      ],
      "execution_count": null,
      "outputs": [
        {
          "output_type": "execute_result",
          "data": {
            "text/html": [
              "<div>\n",
              "<style scoped>\n",
              "    .dataframe tbody tr th:only-of-type {\n",
              "        vertical-align: middle;\n",
              "    }\n",
              "\n",
              "    .dataframe tbody tr th {\n",
              "        vertical-align: top;\n",
              "    }\n",
              "\n",
              "    .dataframe thead th {\n",
              "        text-align: right;\n",
              "    }\n",
              "</style>\n",
              "<table border=\"1\" class=\"dataframe\">\n",
              "  <thead>\n",
              "    <tr style=\"text-align: right;\">\n",
              "      <th></th>\n",
              "      <th>Country</th>\n",
              "      <th>League</th>\n",
              "      <th>Club</th>\n",
              "      <th>Player Names</th>\n",
              "      <th>Matches_Played</th>\n",
              "      <th>Substitution</th>\n",
              "      <th>Mins</th>\n",
              "      <th>Goals</th>\n",
              "      <th>xG</th>\n",
              "      <th>xG Per Avg Match</th>\n",
              "      <th>Shots</th>\n",
              "      <th>OnTarget</th>\n",
              "      <th>Shots Per Avg Match</th>\n",
              "      <th>On Target Per Avg Match</th>\n",
              "      <th>Year</th>\n",
              "    </tr>\n",
              "  </thead>\n",
              "  <tbody>\n",
              "    <tr>\n",
              "      <th>497</th>\n",
              "      <td>Netherlands</td>\n",
              "      <td>Eredivisie</td>\n",
              "      <td>(HER)</td>\n",
              "      <td>Rai Vloet</td>\n",
              "      <td>10</td>\n",
              "      <td>0</td>\n",
              "      <td>853</td>\n",
              "      <td>7</td>\n",
              "      <td>4.49</td>\n",
              "      <td>0.50</td>\n",
              "      <td>21</td>\n",
              "      <td>9</td>\n",
              "      <td>2.34</td>\n",
              "      <td>1.00</td>\n",
              "      <td>2019</td>\n",
              "    </tr>\n",
              "    <tr>\n",
              "      <th>641</th>\n",
              "      <td>Netherlands</td>\n",
              "      <td>Eredivisie</td>\n",
              "      <td>(AZA)</td>\n",
              "      <td>Teun Koopmeiners</td>\n",
              "      <td>25</td>\n",
              "      <td>0</td>\n",
              "      <td>2336</td>\n",
              "      <td>11</td>\n",
              "      <td>9.34</td>\n",
              "      <td>0.38</td>\n",
              "      <td>35</td>\n",
              "      <td>18</td>\n",
              "      <td>1.42</td>\n",
              "      <td>0.73</td>\n",
              "      <td>2020</td>\n",
              "    </tr>\n",
              "    <tr>\n",
              "      <th>657</th>\n",
              "      <td>Netherlands</td>\n",
              "      <td>Eredivisie</td>\n",
              "      <td>(PSV)</td>\n",
              "      <td>Denzel Dumfries</td>\n",
              "      <td>25</td>\n",
              "      <td>0</td>\n",
              "      <td>2363</td>\n",
              "      <td>7</td>\n",
              "      <td>5.72</td>\n",
              "      <td>0.23</td>\n",
              "      <td>45</td>\n",
              "      <td>14</td>\n",
              "      <td>1.81</td>\n",
              "      <td>0.56</td>\n",
              "      <td>2020</td>\n",
              "    </tr>\n",
              "    <tr>\n",
              "      <th>654</th>\n",
              "      <td>Netherlands</td>\n",
              "      <td>Eredivisie</td>\n",
              "      <td>(RZA)</td>\n",
              "      <td>Haris Vuckic</td>\n",
              "      <td>23</td>\n",
              "      <td>2</td>\n",
              "      <td>2194</td>\n",
              "      <td>11</td>\n",
              "      <td>6.00</td>\n",
              "      <td>0.26</td>\n",
              "      <td>38</td>\n",
              "      <td>17</td>\n",
              "      <td>1.65</td>\n",
              "      <td>0.74</td>\n",
              "      <td>2020</td>\n",
              "    </tr>\n",
              "    <tr>\n",
              "      <th>640</th>\n",
              "      <td>Netherlands</td>\n",
              "      <td>Eredivisie</td>\n",
              "      <td>(MNU)</td>\n",
              "      <td>Donny van de Beek</td>\n",
              "      <td>22</td>\n",
              "      <td>1</td>\n",
              "      <td>2023</td>\n",
              "      <td>8</td>\n",
              "      <td>4.90</td>\n",
              "      <td>0.23</td>\n",
              "      <td>44</td>\n",
              "      <td>16</td>\n",
              "      <td>2.07</td>\n",
              "      <td>0.75</td>\n",
              "      <td>2020</td>\n",
              "    </tr>\n",
              "  </tbody>\n",
              "</table>\n",
              "</div>"
            ],
            "text/plain": [
              "          Country      League  ... On Target Per Avg Match  Year\n",
              "497   Netherlands  Eredivisie  ...                    1.00  2019\n",
              "641   Netherlands  Eredivisie  ...                    0.73  2020\n",
              "657   Netherlands  Eredivisie  ...                    0.56  2020\n",
              "654   Netherlands  Eredivisie  ...                    0.74  2020\n",
              "640   Netherlands  Eredivisie  ...                    0.75  2020\n",
              "\n",
              "[5 rows x 15 columns]"
            ]
          },
          "metadata": {},
          "execution_count": 177
        }
      ]
    },
    {
      "cell_type": "code",
      "metadata": {
        "colab": {
          "base_uri": "https://localhost:8080/"
        },
        "id": "kAD4aDhjEhwf",
        "outputId": "dee03621-d921-4ce1-d6c8-d7ec36ff8a3f"
      },
      "source": [
        "# Shape. 396 rows and 15 columns\n",
        "\n",
        "stratified_sample.shape"
      ],
      "execution_count": null,
      "outputs": [
        {
          "output_type": "execute_result",
          "data": {
            "text/plain": [
              "(396, 15)"
            ]
          },
          "metadata": {},
          "execution_count": 178
        }
      ]
    },
    {
      "cell_type": "code",
      "metadata": {
        "colab": {
          "base_uri": "https://localhost:8080/"
        },
        "id": "Ky3JLgUQ2UK1",
        "outputId": "bdea9495-0f69-47b1-e344-4c7ec2226e0a"
      },
      "source": [
        "# METHOD 1\n",
        "\n",
        "# We have kept the proportions of the original dataframe\n",
        "\n",
        "print(stratified_sample.Country.unique(),'\\n\\n',stratified_sample.Country.value_counts())"
      ],
      "execution_count": null,
      "outputs": [
        {
          "output_type": "stream",
          "name": "stdout",
          "text": [
            "[' Netherlands' 'Brazil' 'England' 'France' 'Germany' 'Italy' 'Portugal '\n",
            " 'Spain' 'USA'] \n",
            "\n",
            " Spain           60\n",
            "Italy           60\n",
            "Brazil          60\n",
            "Germany         60\n",
            "England         48\n",
            "France          36\n",
            "Portugal        24\n",
            " Netherlands    24\n",
            "USA             24\n",
            "Name: Country, dtype: int64\n"
          ]
        }
      ]
    },
    {
      "cell_type": "markdown",
      "metadata": {
        "id": "RyKZlc3HAEFR"
      },
      "source": [
        "+ What we have done in stratified sampling dividing the Dataframe by stratums (countries of the leagues where the players play) and then make a sample with 60% of observations on the original dataframe. As a result, we obtain the same proportions on the original dataframe, thereby achieving that all groups are represented in the sample. "
      ]
    },
    {
      "cell_type": "code",
      "metadata": {
        "colab": {
          "base_uri": "https://localhost:8080/"
        },
        "id": "7AjOCXR0Bgsl",
        "outputId": "02d3cf41-0920-4a55-9fd4-573ce70c09e6"
      },
      "source": [
        "# Comparison between means\n",
        "\n",
        "stratified_sample_mean = round(stratified_sample.Goals.mean(),2) # Sstratified mean\n",
        "print (f'Original Mean is: {scorers_mean}\\nSimple Random Sample Mean is: {stratified_sample_mean}\\n')\n",
        "\n",
        "# Relative Error\n",
        "relative_error_mean_3 = round((abs((scorers_mean-stratified_sample_mean))/stratified_sample_mean)*100, 3)\n",
        "print(f'Relative error of the averages is: {relative_error_mean_3}%')"
      ],
      "execution_count": null,
      "outputs": [
        {
          "output_type": "stream",
          "name": "stdout",
          "text": [
            "Original Mean is: 11.78\n",
            "Simple Random Sample Mean is: 11.69\n",
            "\n",
            "Relative error of the averages is: 0.77%\n"
          ]
        }
      ]
    },
    {
      "cell_type": "code",
      "metadata": {
        "colab": {
          "base_uri": "https://localhost:8080/",
          "height": 275
        },
        "id": "Xm1q5a0x-ney",
        "outputId": "bbf5c2e1-3ca7-45ca-e941-26eb1ed80ce2"
      },
      "source": [
        "# Method 2\n",
        "\n",
        "from sklearn.model_selection import train_test_split\n",
        "\n",
        "X_train, X_test = train_test_split(scorers, test_size= 0.4, stratify=scorers[['Country']])\n",
        "X_train.head()"
      ],
      "execution_count": null,
      "outputs": [
        {
          "output_type": "execute_result",
          "data": {
            "text/html": [
              "<div>\n",
              "<style scoped>\n",
              "    .dataframe tbody tr th:only-of-type {\n",
              "        vertical-align: middle;\n",
              "    }\n",
              "\n",
              "    .dataframe tbody tr th {\n",
              "        vertical-align: top;\n",
              "    }\n",
              "\n",
              "    .dataframe thead th {\n",
              "        text-align: right;\n",
              "    }\n",
              "</style>\n",
              "<table border=\"1\" class=\"dataframe\">\n",
              "  <thead>\n",
              "    <tr style=\"text-align: right;\">\n",
              "      <th></th>\n",
              "      <th>Country</th>\n",
              "      <th>League</th>\n",
              "      <th>Club</th>\n",
              "      <th>Player Names</th>\n",
              "      <th>Matches_Played</th>\n",
              "      <th>Substitution</th>\n",
              "      <th>Mins</th>\n",
              "      <th>Goals</th>\n",
              "      <th>xG</th>\n",
              "      <th>xG Per Avg Match</th>\n",
              "      <th>Shots</th>\n",
              "      <th>OnTarget</th>\n",
              "      <th>Shots Per Avg Match</th>\n",
              "      <th>On Target Per Avg Match</th>\n",
              "      <th>Year</th>\n",
              "    </tr>\n",
              "  </thead>\n",
              "  <tbody>\n",
              "    <tr>\n",
              "      <th>32</th>\n",
              "      <td>Italy</td>\n",
              "      <td>Serie A</td>\n",
              "      <td>(ROM)</td>\n",
              "      <td>Edin Dzeko</td>\n",
              "      <td>33</td>\n",
              "      <td>4</td>\n",
              "      <td>3194</td>\n",
              "      <td>29</td>\n",
              "      <td>30.60</td>\n",
              "      <td>0.91</td>\n",
              "      <td>178</td>\n",
              "      <td>99</td>\n",
              "      <td>5.29</td>\n",
              "      <td>2.94</td>\n",
              "      <td>2016</td>\n",
              "    </tr>\n",
              "    <tr>\n",
              "      <th>56</th>\n",
              "      <td>Germany</td>\n",
              "      <td>Bundesliga</td>\n",
              "      <td>(UNB)</td>\n",
              "      <td>Max Kruse</td>\n",
              "      <td>23</td>\n",
              "      <td>0</td>\n",
              "      <td>2121</td>\n",
              "      <td>15</td>\n",
              "      <td>8.48</td>\n",
              "      <td>0.38</td>\n",
              "      <td>41</td>\n",
              "      <td>28</td>\n",
              "      <td>1.84</td>\n",
              "      <td>1.25</td>\n",
              "      <td>2016</td>\n",
              "    </tr>\n",
              "    <tr>\n",
              "      <th>443</th>\n",
              "      <td>England</td>\n",
              "      <td>Premier League</td>\n",
              "      <td>(LEI)</td>\n",
              "      <td>Jamie Vardy</td>\n",
              "      <td>34</td>\n",
              "      <td>1</td>\n",
              "      <td>3271</td>\n",
              "      <td>23</td>\n",
              "      <td>19.28</td>\n",
              "      <td>0.56</td>\n",
              "      <td>89</td>\n",
              "      <td>42</td>\n",
              "      <td>2.58</td>\n",
              "      <td>1.22</td>\n",
              "      <td>2019</td>\n",
              "    </tr>\n",
              "    <tr>\n",
              "      <th>603</th>\n",
              "      <td>England</td>\n",
              "      <td>Premier League</td>\n",
              "      <td>(CHE)</td>\n",
              "      <td>Timo Werner</td>\n",
              "      <td>10</td>\n",
              "      <td>0</td>\n",
              "      <td>876</td>\n",
              "      <td>4</td>\n",
              "      <td>3.69</td>\n",
              "      <td>0.40</td>\n",
              "      <td>23</td>\n",
              "      <td>10</td>\n",
              "      <td>2.49</td>\n",
              "      <td>1.08</td>\n",
              "      <td>2020</td>\n",
              "    </tr>\n",
              "    <tr>\n",
              "      <th>370</th>\n",
              "      <td>Portugal</td>\n",
              "      <td>Primeira Liga</td>\n",
              "      <td>(MAR)</td>\n",
              "      <td>Rodrigo Pinho</td>\n",
              "      <td>18</td>\n",
              "      <td>9</td>\n",
              "      <td>1732</td>\n",
              "      <td>9</td>\n",
              "      <td>6.56</td>\n",
              "      <td>0.36</td>\n",
              "      <td>48</td>\n",
              "      <td>22</td>\n",
              "      <td>2.63</td>\n",
              "      <td>1.21</td>\n",
              "      <td>2019</td>\n",
              "    </tr>\n",
              "  </tbody>\n",
              "</table>\n",
              "</div>"
            ],
            "text/plain": [
              "       Country          League  ... On Target Per Avg Match  Year\n",
              "32       Italy         Serie A  ...                    2.94  2016\n",
              "56     Germany      Bundesliga  ...                    1.25  2016\n",
              "443    England  Premier League  ...                    1.22  2019\n",
              "603    England  Premier League  ...                    1.08  2020\n",
              "370  Portugal    Primeira Liga  ...                    1.21  2019\n",
              "\n",
              "[5 rows x 15 columns]"
            ]
          },
          "metadata": {},
          "execution_count": 181
        }
      ]
    },
    {
      "cell_type": "code",
      "metadata": {
        "colab": {
          "base_uri": "https://localhost:8080/"
        },
        "id": "yLWq1BZOFlaE",
        "outputId": "969167e0-b4ce-4a46-87ec-1fbc81e066c3"
      },
      "source": [
        "# Shape. 396 rows and 15 columns\n",
        "\n",
        "X_train.shape"
      ],
      "execution_count": null,
      "outputs": [
        {
          "output_type": "execute_result",
          "data": {
            "text/plain": [
              "(396, 15)"
            ]
          },
          "metadata": {},
          "execution_count": 182
        }
      ]
    },
    {
      "cell_type": "code",
      "metadata": {
        "colab": {
          "base_uri": "https://localhost:8080/"
        },
        "id": "Y5tth-ErFrHj",
        "outputId": "cf574d0b-c30c-4161-a015-61ce1136a6a5"
      },
      "source": [
        "# We have kept the proportions of the original dataframe too.\n",
        "\n",
        "print(X_train.Country.unique(),'\\n\\n',X_train.Country.value_counts())"
      ],
      "execution_count": null,
      "outputs": [
        {
          "output_type": "stream",
          "name": "stdout",
          "text": [
            "['Italy' 'Germany' 'England' 'Portugal ' 'Spain' ' Netherlands' 'France'\n",
            " 'USA' 'Brazil'] \n",
            "\n",
            " Spain           60\n",
            "Italy           60\n",
            "Brazil          60\n",
            "Germany         60\n",
            "England         48\n",
            "France          36\n",
            "Portugal        24\n",
            " Netherlands    24\n",
            "USA             24\n",
            "Name: Country, dtype: int64\n"
          ]
        }
      ]
    },
    {
      "cell_type": "code",
      "metadata": {
        "colab": {
          "base_uri": "https://localhost:8080/"
        },
        "id": "TmukCU2wHMoV",
        "outputId": "b9e2b8a6-c069-4b81-e1bd-9e5ac8d9c5d5"
      },
      "source": [
        "# Comparison between means\n",
        "\n",
        "X_train_mean = round(X_train.Goals.mean(),2) # Sstratified mean\n",
        "print (f'Original Mean is: {scorers_mean}\\nSimple Random Sample Mean is: {X_train_mean}\\n')\n",
        "\n",
        "# Dispersion of the averages\n",
        "relative_error_mean_4 = round((abs((X_train_mean-scorers_mean))/X_train_mean)*100, 3)\n",
        "print(f'Relative errror of the averages is: {relative_error_mean_4}%')"
      ],
      "execution_count": null,
      "outputs": [
        {
          "output_type": "stream",
          "name": "stdout",
          "text": [
            "Original Mean is: 11.78\n",
            "Simple Random Sample Mean is: 11.59\n",
            "\n",
            "Relative errror of the averages is: 1.639%\n"
          ]
        }
      ]
    },
    {
      "cell_type": "code",
      "metadata": {
        "id": "MuLjsVInPOup"
      },
      "source": [
        "# Save Stratified Sample\n",
        "\n",
        "X_train.to_csv('/content/drive/MyDrive/IT Academy - Data Science/Sprint 6. Mètodes de Mostreig/S06 T01 Tasca mètodes de mostreig/Samples/Stratified_Sample.csv')"
      ],
      "execution_count": null,
      "outputs": []
    },
    {
      "cell_type": "markdown",
      "metadata": {
        "id": "jKhiPUEsIJvw"
      },
      "source": [
        "### **SMOTE (Synthetic Minority Oversampling Technique)**\n",
        "\n",
        "+ We are going to do a resampling. A resampling basically consists of eliminating observations from the majority sample (subsampling) or adding observations from the majority sample (oversampling).\n",
        "\n",
        "+ Our exercise in particular asks us to perform an oversampling with the **SMOTE** technique"
      ]
    },
    {
      "cell_type": "code",
      "metadata": {
        "id": "SRUt8MfMHdaN"
      },
      "source": [
        "# Import SMOTE from imblean\n",
        "\n",
        "from imblearn.over_sampling import SMOTE"
      ],
      "execution_count": null,
      "outputs": []
    },
    {
      "cell_type": "markdown",
      "metadata": {
        "id": "cLMfUgZMN7ro"
      },
      "source": [
        "+ We want to apply the SMOTE on the countries of the leagues where soccer players play, by applying the oversampling technique.\n",
        "\n",
        "**Link:** https://imbalanced-learn.org/stable/references/generated/imblearn.over_sampling.SMOTE.html\n"
      ]
    },
    {
      "cell_type": "code",
      "metadata": {
        "colab": {
          "base_uri": "https://localhost:8080/"
        },
        "id": "SDd8OCn1RXOk",
        "outputId": "61b21492-f3c6-472e-e343-647b107f962e"
      },
      "source": [
        "scorers.Country.value_counts()"
      ],
      "execution_count": null,
      "outputs": [
        {
          "output_type": "execute_result",
          "data": {
            "text/plain": [
              "Italy           100\n",
              "Spain           100\n",
              "Brazil          100\n",
              "Germany         100\n",
              "England          80\n",
              "France           60\n",
              " Netherlands     40\n",
              "Portugal         40\n",
              "USA              40\n",
              "Name: Country, dtype: int64"
            ]
          },
          "metadata": {},
          "execution_count": 187
        }
      ]
    },
    {
      "cell_type": "code",
      "metadata": {
        "colab": {
          "base_uri": "https://localhost:8080/",
          "height": 112
        },
        "id": "f5voBL4iJ_0y",
        "outputId": "dbdc2011-3f49-4584-afca-e99597dc53a2"
      },
      "source": [
        "# SMOTE\n",
        "\n",
        "# Drop string variables\n",
        "smote_oversample = scorers.drop( columns=['League','Club','Player Names'])\n",
        "\n",
        "# Convert Country column to numbers\n",
        "dictionary ={'Italy': 1, 'Brazil': 3,'Spain': 0,'Germany': 2,'England': 4,'France': 5,' Netherlands': 6,'Portugal ': 7,'USA': 8}\n",
        "smote_oversample['Country'] = smote_oversample['Country'].map(dictionary).fillna(smote_oversample['Country'])\n",
        "smote_oversample.head(2)"
      ],
      "execution_count": null,
      "outputs": [
        {
          "output_type": "execute_result",
          "data": {
            "text/html": [
              "<div>\n",
              "<style scoped>\n",
              "    .dataframe tbody tr th:only-of-type {\n",
              "        vertical-align: middle;\n",
              "    }\n",
              "\n",
              "    .dataframe tbody tr th {\n",
              "        vertical-align: top;\n",
              "    }\n",
              "\n",
              "    .dataframe thead th {\n",
              "        text-align: right;\n",
              "    }\n",
              "</style>\n",
              "<table border=\"1\" class=\"dataframe\">\n",
              "  <thead>\n",
              "    <tr style=\"text-align: right;\">\n",
              "      <th></th>\n",
              "      <th>Country</th>\n",
              "      <th>Matches_Played</th>\n",
              "      <th>Substitution</th>\n",
              "      <th>Mins</th>\n",
              "      <th>Goals</th>\n",
              "      <th>xG</th>\n",
              "      <th>xG Per Avg Match</th>\n",
              "      <th>Shots</th>\n",
              "      <th>OnTarget</th>\n",
              "      <th>Shots Per Avg Match</th>\n",
              "      <th>On Target Per Avg Match</th>\n",
              "      <th>Year</th>\n",
              "    </tr>\n",
              "  </thead>\n",
              "  <tbody>\n",
              "    <tr>\n",
              "      <th>0</th>\n",
              "      <td>0</td>\n",
              "      <td>19</td>\n",
              "      <td>16</td>\n",
              "      <td>1849</td>\n",
              "      <td>11</td>\n",
              "      <td>6.62</td>\n",
              "      <td>0.34</td>\n",
              "      <td>48</td>\n",
              "      <td>20</td>\n",
              "      <td>2.47</td>\n",
              "      <td>1.03</td>\n",
              "      <td>2016</td>\n",
              "    </tr>\n",
              "    <tr>\n",
              "      <th>1</th>\n",
              "      <td>0</td>\n",
              "      <td>36</td>\n",
              "      <td>0</td>\n",
              "      <td>3129</td>\n",
              "      <td>16</td>\n",
              "      <td>11.86</td>\n",
              "      <td>0.36</td>\n",
              "      <td>88</td>\n",
              "      <td>41</td>\n",
              "      <td>2.67</td>\n",
              "      <td>1.24</td>\n",
              "      <td>2016</td>\n",
              "    </tr>\n",
              "  </tbody>\n",
              "</table>\n",
              "</div>"
            ],
            "text/plain": [
              "   Country  Matches_Played  ...  On Target Per Avg Match  Year\n",
              "0        0              19  ...                     1.03  2016\n",
              "1        0              36  ...                     1.24  2016\n",
              "\n",
              "[2 rows x 12 columns]"
            ]
          },
          "metadata": {},
          "execution_count": 188
        }
      ]
    },
    {
      "cell_type": "markdown",
      "metadata": {
        "id": "tyn2xlR_fz2L"
      },
      "source": [
        "**VALUES:**\n",
        "\n",
        "**Link:** https://www.it-swarm-es.com/es/python/convertir-no-y-si-en-0-y-1-en-pandas-dataframe/805909417/\n",
        "\n",
        "+ **Spain:** 0\n",
        "\n",
        "+ **Italy:** 1\n",
        "\n",
        "+ **Germany:** 2\n",
        "\n",
        "+ **Brazil:** 3\n",
        "\n",
        "+ **England:** 4\n",
        "\n",
        "+ **France:** 5\n",
        "\n",
        "+ **Netherlands:** 6\n",
        "\n",
        "+ **Portugal:** 7\n",
        "\n",
        "+ **USA:** 8\n",
        "\n",
        "+ Our objective is all classes have the same observations. To achieve that we have to apply SMOTE to those observations than have less observations than the rest."
      ]
    },
    {
      "cell_type": "code",
      "metadata": {
        "colab": {
          "base_uri": "https://localhost:8080/",
          "height": 206
        },
        "id": "oQ5XoaR5TULl",
        "outputId": "0a1d68d8-60f8-4095-fede-56cb3305d552"
      },
      "source": [
        "# SMOTE application\n",
        "\n",
        "smote = SMOTE(sampling_strategy='not majority', random_state=48265148, k_neighbors=4)\n",
        "smote_df, smote_country = smote.fit_resample(smote_oversample, smote_oversample[['Country']] )\n",
        "\n",
        "smote_df.head()"
      ],
      "execution_count": null,
      "outputs": [
        {
          "output_type": "execute_result",
          "data": {
            "text/html": [
              "<div>\n",
              "<style scoped>\n",
              "    .dataframe tbody tr th:only-of-type {\n",
              "        vertical-align: middle;\n",
              "    }\n",
              "\n",
              "    .dataframe tbody tr th {\n",
              "        vertical-align: top;\n",
              "    }\n",
              "\n",
              "    .dataframe thead th {\n",
              "        text-align: right;\n",
              "    }\n",
              "</style>\n",
              "<table border=\"1\" class=\"dataframe\">\n",
              "  <thead>\n",
              "    <tr style=\"text-align: right;\">\n",
              "      <th></th>\n",
              "      <th>Country</th>\n",
              "      <th>Matches_Played</th>\n",
              "      <th>Substitution</th>\n",
              "      <th>Mins</th>\n",
              "      <th>Goals</th>\n",
              "      <th>xG</th>\n",
              "      <th>xG Per Avg Match</th>\n",
              "      <th>Shots</th>\n",
              "      <th>OnTarget</th>\n",
              "      <th>Shots Per Avg Match</th>\n",
              "      <th>On Target Per Avg Match</th>\n",
              "      <th>Year</th>\n",
              "    </tr>\n",
              "  </thead>\n",
              "  <tbody>\n",
              "    <tr>\n",
              "      <th>0</th>\n",
              "      <td>0</td>\n",
              "      <td>19</td>\n",
              "      <td>16</td>\n",
              "      <td>1849</td>\n",
              "      <td>11</td>\n",
              "      <td>6.62</td>\n",
              "      <td>0.34</td>\n",
              "      <td>48</td>\n",
              "      <td>20</td>\n",
              "      <td>2.47</td>\n",
              "      <td>1.03</td>\n",
              "      <td>2016</td>\n",
              "    </tr>\n",
              "    <tr>\n",
              "      <th>1</th>\n",
              "      <td>0</td>\n",
              "      <td>36</td>\n",
              "      <td>0</td>\n",
              "      <td>3129</td>\n",
              "      <td>16</td>\n",
              "      <td>11.86</td>\n",
              "      <td>0.36</td>\n",
              "      <td>88</td>\n",
              "      <td>41</td>\n",
              "      <td>2.67</td>\n",
              "      <td>1.24</td>\n",
              "      <td>2016</td>\n",
              "    </tr>\n",
              "    <tr>\n",
              "      <th>2</th>\n",
              "      <td>0</td>\n",
              "      <td>34</td>\n",
              "      <td>1</td>\n",
              "      <td>2940</td>\n",
              "      <td>28</td>\n",
              "      <td>23.21</td>\n",
              "      <td>0.75</td>\n",
              "      <td>120</td>\n",
              "      <td>57</td>\n",
              "      <td>3.88</td>\n",
              "      <td>1.84</td>\n",
              "      <td>2016</td>\n",
              "    </tr>\n",
              "    <tr>\n",
              "      <th>3</th>\n",
              "      <td>0</td>\n",
              "      <td>32</td>\n",
              "      <td>3</td>\n",
              "      <td>2842</td>\n",
              "      <td>13</td>\n",
              "      <td>14.06</td>\n",
              "      <td>0.47</td>\n",
              "      <td>117</td>\n",
              "      <td>42</td>\n",
              "      <td>3.91</td>\n",
              "      <td>1.40</td>\n",
              "      <td>2016</td>\n",
              "    </tr>\n",
              "    <tr>\n",
              "      <th>4</th>\n",
              "      <td>0</td>\n",
              "      <td>21</td>\n",
              "      <td>10</td>\n",
              "      <td>1745</td>\n",
              "      <td>13</td>\n",
              "      <td>10.65</td>\n",
              "      <td>0.58</td>\n",
              "      <td>50</td>\n",
              "      <td>23</td>\n",
              "      <td>2.72</td>\n",
              "      <td>1.25</td>\n",
              "      <td>2016</td>\n",
              "    </tr>\n",
              "  </tbody>\n",
              "</table>\n",
              "</div>"
            ],
            "text/plain": [
              "   Country  Matches_Played  ...  On Target Per Avg Match  Year\n",
              "0        0              19  ...                     1.03  2016\n",
              "1        0              36  ...                     1.24  2016\n",
              "2        0              34  ...                     1.84  2016\n",
              "3        0              32  ...                     1.40  2016\n",
              "4        0              21  ...                     1.25  2016\n",
              "\n",
              "[5 rows x 12 columns]"
            ]
          },
          "metadata": {},
          "execution_count": 189
        }
      ]
    },
    {
      "cell_type": "code",
      "metadata": {
        "colab": {
          "base_uri": "https://localhost:8080/"
        },
        "id": "7GPJbzozu4qf",
        "outputId": "d30d6dd7-22d1-4907-89ca-1725a99b5ee7"
      },
      "source": [
        "# Shape. 900 rows and 12 columns\n",
        "\n",
        "smote_df.shape"
      ],
      "execution_count": null,
      "outputs": [
        {
          "output_type": "execute_result",
          "data": {
            "text/plain": [
              "(900, 12)"
            ]
          },
          "metadata": {},
          "execution_count": 190
        }
      ]
    },
    {
      "cell_type": "code",
      "metadata": {
        "id": "bET8lOdiWdmu",
        "colab": {
          "base_uri": "https://localhost:8080/"
        },
        "outputId": "b30b3cfe-be70-4ff6-a619-6c9a507a7405"
      },
      "source": [
        "# All classes have the same observations\n",
        "\n",
        "smote_df.Country.value_counts()"
      ],
      "execution_count": null,
      "outputs": [
        {
          "output_type": "execute_result",
          "data": {
            "text/plain": [
              "8    100\n",
              "7    100\n",
              "6    100\n",
              "5    100\n",
              "4    100\n",
              "3    100\n",
              "2    100\n",
              "1    100\n",
              "0    100\n",
              "Name: Country, dtype: int64"
            ]
          },
          "metadata": {},
          "execution_count": 191
        }
      ]
    },
    {
      "cell_type": "code",
      "metadata": {
        "colab": {
          "base_uri": "https://localhost:8080/"
        },
        "id": "ZWCKjhvHCZy7",
        "outputId": "5b105718-02ef-4a3e-b5a4-4dd7051f1a1c"
      },
      "source": [
        "# Comparison between means\n",
        "\n",
        "smote_mean = round(smote_df.Goals.mean(),2) # Sstratified mean\n",
        "print (f'Original Mean is: {scorers_mean}\\nSimple Random Sample Mean is: {smote_mean}\\n')\n",
        "\n",
        "# Relative Error\n",
        "relative_error_mean_5 = round((abs((scorers_mean-smote_mean))/smote_mean)*100, 3)\n",
        "print(f'Relative error of the averages is: {relative_error_mean_5}%')"
      ],
      "execution_count": null,
      "outputs": [
        {
          "output_type": "stream",
          "name": "stdout",
          "text": [
            "Original Mean is: 11.78\n",
            "Simple Random Sample Mean is: 11.25\n",
            "\n",
            "Relative error of the averages is: 4.711%\n"
          ]
        }
      ]
    },
    {
      "cell_type": "code",
      "metadata": {
        "id": "A6nWUdmWriYP"
      },
      "source": [
        "# Save SMOTE Sampling\n",
        "\n",
        "smote_df.to_csv('/content/drive/MyDrive/IT Academy - Data Science/Sprint 6. Mètodes de Mostreig/S06 T01 Tasca mètodes de mostreig/Samples/SMOTE Sampling.csv')"
      ],
      "execution_count": null,
      "outputs": []
    },
    {
      "cell_type": "markdown",
      "metadata": {
        "id": "yb1PbPP8l6AC"
      },
      "source": [
        "**METHODOLOGY APPLIED**\n",
        "\n",
        "+ The objective of SMOTE sampling is to ensure that all classes have the same number of observations. We have observed which classes are the ones that needed to be filled at the levels of the others and we have proceeded to resampling.\n",
        "\n",
        "+ The **sampling strategy** has been 'no majority', which means that all classes have been resampled except for the majority class, which in our case there were 4 classes with the maximum number of observations (100).\n",
        "\n",
        "+ The **k-neighbors** are the number of closest neighbors used to construct the synthetic samples of those minority classes.\n",
        "\n",
        "+ The **fit_resample** The function is to sample the dataset that we have introduced."
      ]
    },
    {
      "cell_type": "markdown",
      "metadata": {
        "id": "91M2m3bDvhEP"
      },
      "source": [
        "## **EXERCISE 3**\n",
        "\n",
        "**STATEMENT:** Continues with the sports theme dataset and generates a sample using the Reservoir sampling method.\n",
        "\n"
      ]
    },
    {
      "cell_type": "markdown",
      "metadata": {
        "id": "-t2hQWVwvuM3"
      },
      "source": [
        "### **RESERVOIR SAMPLING**\n",
        "\n",
        "+ Reservoir sampling is carried out when we have a DataSet of a very large length (n) and that is unknown on which we can only iterate once.\n",
        "\n",
        "+ The objective of this sampling is to create a sample and each observation has the same probability of being chosen."
      ]
    },
    {
      "cell_type": "code",
      "metadata": {
        "id": "T6H24ac_NC_P"
      },
      "source": [
        "# Reservoir Sampling\n",
        "\n",
        "import random\n",
        "def generator(max):\n",
        "    number = 1\n",
        "    while number < max:\n",
        "        number += 1\n",
        "        yield number\n",
        "\n",
        "stream = generator(len(scorers))\n",
        "k=100\n",
        "reservoir = []\n",
        "\n",
        "for i, element in enumerate(stream):\n",
        "    if i+1<= k:\n",
        "        reservoir.append(element)\n",
        "    else:\n",
        "        probability = k/(i+1)\n",
        "        if random.random() < probability:\n",
        "             reservoir[random.choice(range(0,k))] = element\n",
        "\n",
        "\n"
      ],
      "execution_count": null,
      "outputs": []
    },
    {
      "cell_type": "code",
      "metadata": {
        "id": "IUzEvx16X9b7",
        "colab": {
          "base_uri": "https://localhost:8080/",
          "height": 293
        },
        "outputId": "e69f21f9-8ebe-4c2f-e6d5-14c4b9f6069d"
      },
      "source": [
        "# With the numbers from the 'reservoir' list we call the original dataframe again to create the reservoir sampling as a Dataframe\n",
        "\n",
        "df = pd.read_csv('/content/drive/MyDrive/IT Academy - Data Science/Sprint 6. Mètodes de Mostreig/Statistics_Scorers.csv')\n",
        "\n",
        "reservoir_sampling = df.iloc[reservoir]\n",
        "reservoir_sampling.head()\n"
      ],
      "execution_count": null,
      "outputs": [
        {
          "output_type": "execute_result",
          "data": {
            "text/html": [
              "<div>\n",
              "<style scoped>\n",
              "    .dataframe tbody tr th:only-of-type {\n",
              "        vertical-align: middle;\n",
              "    }\n",
              "\n",
              "    .dataframe tbody tr th {\n",
              "        vertical-align: top;\n",
              "    }\n",
              "\n",
              "    .dataframe thead th {\n",
              "        text-align: right;\n",
              "    }\n",
              "</style>\n",
              "<table border=\"1\" class=\"dataframe\">\n",
              "  <thead>\n",
              "    <tr style=\"text-align: right;\">\n",
              "      <th></th>\n",
              "      <th>Country</th>\n",
              "      <th>League</th>\n",
              "      <th>Club</th>\n",
              "      <th>Player Names</th>\n",
              "      <th>Matches_Played</th>\n",
              "      <th>Substitution</th>\n",
              "      <th>Mins</th>\n",
              "      <th>Goals</th>\n",
              "      <th>xG</th>\n",
              "      <th>xG Per Avg Match</th>\n",
              "      <th>Shots</th>\n",
              "      <th>OnTarget</th>\n",
              "      <th>Shots Per Avg Match</th>\n",
              "      <th>On Target Per Avg Match</th>\n",
              "      <th>Year</th>\n",
              "    </tr>\n",
              "  </thead>\n",
              "  <tbody>\n",
              "    <tr>\n",
              "      <th>533</th>\n",
              "      <td>Spain</td>\n",
              "      <td>La Liga</td>\n",
              "      <td>(RMA)</td>\n",
              "      <td>Federico Valverde</td>\n",
              "      <td>6</td>\n",
              "      <td>2</td>\n",
              "      <td>566</td>\n",
              "      <td>3</td>\n",
              "      <td>1.13</td>\n",
              "      <td>0.19</td>\n",
              "      <td>9</td>\n",
              "      <td>5</td>\n",
              "      <td>1.51</td>\n",
              "      <td>0.84</td>\n",
              "      <td>2020</td>\n",
              "    </tr>\n",
              "    <tr>\n",
              "      <th>385</th>\n",
              "      <td>Italy</td>\n",
              "      <td>Serie A</td>\n",
              "      <td>(JUV)</td>\n",
              "      <td>Cristiano Ronaldo</td>\n",
              "      <td>33</td>\n",
              "      <td>0</td>\n",
              "      <td>3127</td>\n",
              "      <td>31</td>\n",
              "      <td>27.32</td>\n",
              "      <td>0.83</td>\n",
              "      <td>208</td>\n",
              "      <td>79</td>\n",
              "      <td>6.32</td>\n",
              "      <td>2.40</td>\n",
              "      <td>2019</td>\n",
              "    </tr>\n",
              "    <tr>\n",
              "      <th>213</th>\n",
              "      <td>Italy</td>\n",
              "      <td>Serie A</td>\n",
              "      <td>(CAG)</td>\n",
              "      <td>Leonardo Pavoletti</td>\n",
              "      <td>31</td>\n",
              "      <td>1</td>\n",
              "      <td>2903</td>\n",
              "      <td>16</td>\n",
              "      <td>11.00</td>\n",
              "      <td>0.36</td>\n",
              "      <td>84</td>\n",
              "      <td>33</td>\n",
              "      <td>2.75</td>\n",
              "      <td>1.08</td>\n",
              "      <td>2018</td>\n",
              "    </tr>\n",
              "    <tr>\n",
              "      <th>172</th>\n",
              "      <td>Brazil</td>\n",
              "      <td>Campeonato Brasileiro SÃ©rie A</td>\n",
              "      <td>(FLA)</td>\n",
              "      <td>Diego</td>\n",
              "      <td>24</td>\n",
              "      <td>3</td>\n",
              "      <td>2089</td>\n",
              "      <td>10</td>\n",
              "      <td>7.92</td>\n",
              "      <td>0.36</td>\n",
              "      <td>56</td>\n",
              "      <td>22</td>\n",
              "      <td>2.55</td>\n",
              "      <td>1.00</td>\n",
              "      <td>2017</td>\n",
              "    </tr>\n",
              "    <tr>\n",
              "      <th>218</th>\n",
              "      <td>Italy</td>\n",
              "      <td>Serie A</td>\n",
              "      <td>(PSG)</td>\n",
              "      <td>Mauro Icardi</td>\n",
              "      <td>24</td>\n",
              "      <td>5</td>\n",
              "      <td>2314</td>\n",
              "      <td>11</td>\n",
              "      <td>14.86</td>\n",
              "      <td>0.61</td>\n",
              "      <td>73</td>\n",
              "      <td>29</td>\n",
              "      <td>3.00</td>\n",
              "      <td>1.19</td>\n",
              "      <td>2018</td>\n",
              "    </tr>\n",
              "  </tbody>\n",
              "</table>\n",
              "</div>"
            ],
            "text/plain": [
              "    Country                          League  ... On Target Per Avg Match  Year\n",
              "533   Spain                         La Liga  ...                    0.84  2020\n",
              "385   Italy                         Serie A  ...                    2.40  2019\n",
              "213   Italy                         Serie A  ...                    1.08  2018\n",
              "172  Brazil  Campeonato Brasileiro SÃ©rie A  ...                    1.00  2017\n",
              "218   Italy                         Serie A  ...                    1.19  2018\n",
              "\n",
              "[5 rows x 15 columns]"
            ]
          },
          "metadata": {},
          "execution_count": 194
        }
      ]
    },
    {
      "cell_type": "code",
      "metadata": {
        "id": "-OUbzi7zX_0s",
        "colab": {
          "base_uri": "https://localhost:8080/"
        },
        "outputId": "fa6bb826-def6-4fbc-fa30-55de0a9b81c6"
      },
      "source": [
        "# Shape. 100 rows and 15 columns\n",
        "reservoir_sampling.shape"
      ],
      "execution_count": null,
      "outputs": [
        {
          "output_type": "execute_result",
          "data": {
            "text/plain": [
              "(100, 15)"
            ]
          },
          "metadata": {},
          "execution_count": 195
        }
      ]
    },
    {
      "cell_type": "code",
      "metadata": {
        "colab": {
          "base_uri": "https://localhost:8080/"
        },
        "id": "1JGw03RSDMgj",
        "outputId": "9430f141-252a-4c9c-ba72-89ee95a40639"
      },
      "source": [
        "# Comparison between means\n",
        "\n",
        "reservoir_sampling_mean = round(reservoir_sampling.Goals.mean(),2) # Sstratified mean\n",
        "print (f'Original Mean is: {scorers_mean}\\nSimple Random Sample Mean is: {reservoir_sampling_mean}\\n')\n",
        "\n",
        "# Relative Error\n",
        "relative_error_mean_6 = round((abs((scorers_mean-reservoir_sampling_mean))/reservoir_sampling_mean)*100, 3)\n",
        "print(f'Relative error of the averages is: {relative_error_mean_6}%')"
      ],
      "execution_count": null,
      "outputs": [
        {
          "output_type": "stream",
          "name": "stdout",
          "text": [
            "Original Mean is: 11.78\n",
            "Simple Random Sample Mean is: 11.57\n",
            "\n",
            "Relative error of the averages is: 1.815%\n"
          ]
        }
      ]
    },
    {
      "cell_type": "code",
      "metadata": {
        "id": "jKCu-l2N-QZ0"
      },
      "source": [
        "# Save Reservoir Sampling\n",
        "\n",
        "reservoir_sampling.to_csv('/content/drive/MyDrive/IT Academy - Data Science/Sprint 6. Mètodes de Mostreig/S06 T01 Tasca mètodes de mostreig/Samples/Reservoir Sampling.csv')"
      ],
      "execution_count": null,
      "outputs": []
    },
    {
      "cell_type": "markdown",
      "metadata": {
        "id": "hLtbMam_vvK6"
      },
      "source": [
        "**METHODOLOGY APPLIED**\n",
        "\n",
        "+We have followed the following steps to carry out the Reservoir sampling method:\n",
        "\n",
        "  + **1** We have created a function called 'generator' that receives the length of our DataFrame. The objective of this function is that all the rows of our DataFrame are iterated one by one until the end. The intention is that all the observations have the same possibility of being chosen.\n",
        "\n",
        "  + **2** We initialise a **k** where we indicate the value we want our sample to have. In addition, we create a list called 'Reservoir' where these 100 observations will be entered.\n",
        "\n",
        "  + **3** Then we initialize a **for loop**. The first 100 observations will be entered in the 'reservoir' list, subsequent observations must be subjected to a condition: if the randomly number created between 0-1 is less than the probability number created (between 0-1), then will introduce this observation to the 'reservoir' list by another observation that was already in the list, thanks to **random.choice**."
      ]
    },
    {
      "cell_type": "markdown",
      "metadata": {
        "id": "7cCab9PFEG1S"
      },
      "source": [
        "## **Samples Summary**"
      ]
    },
    {
      "cell_type": "code",
      "metadata": {
        "id": "x4-FKNczzh80",
        "colab": {
          "base_uri": "https://localhost:8080/",
          "height": 237
        },
        "outputId": "4757c052-f04d-4962-cda4-34a629981e70"
      },
      "source": [
        "# Sampling results\n",
        "\n",
        "sampling_means = {'Sampling Mean': [simple_random_sample_mean, systematic_sample_mean, stratified_sample_mean, X_train_mean, smote_mean, reservoir_sampling_mean], 'Real Mean': scorers_mean}\n",
        "\n",
        "# To Dataframe\n",
        "sampling_means = pd.DataFrame(sampling_means, index=['Simple Random Sample', 'Systematic Sample', 'Stratified Sample (Method 1)', 'Stratified Sample (Method 2)', 'SMOTE Sample', 'Reservoir Sample'])\n",
        "\n",
        "# Adding Absolut Error\n",
        "sampling_means['Absolut Error'] = abs((sampling_means['Real Mean'] - sampling_means['Sampling Mean'])) # abs retun the absolut value\n",
        "sampling_means \n"
      ],
      "execution_count": null,
      "outputs": [
        {
          "output_type": "execute_result",
          "data": {
            "text/html": [
              "<div>\n",
              "<style scoped>\n",
              "    .dataframe tbody tr th:only-of-type {\n",
              "        vertical-align: middle;\n",
              "    }\n",
              "\n",
              "    .dataframe tbody tr th {\n",
              "        vertical-align: top;\n",
              "    }\n",
              "\n",
              "    .dataframe thead th {\n",
              "        text-align: right;\n",
              "    }\n",
              "</style>\n",
              "<table border=\"1\" class=\"dataframe\">\n",
              "  <thead>\n",
              "    <tr style=\"text-align: right;\">\n",
              "      <th></th>\n",
              "      <th>Sampling Mean</th>\n",
              "      <th>Real Mean</th>\n",
              "      <th>Absolut Error</th>\n",
              "    </tr>\n",
              "  </thead>\n",
              "  <tbody>\n",
              "    <tr>\n",
              "      <th>Simple Random Sample</th>\n",
              "      <td>11.84</td>\n",
              "      <td>11.78</td>\n",
              "      <td>0.06</td>\n",
              "    </tr>\n",
              "    <tr>\n",
              "      <th>Systematic Sample</th>\n",
              "      <td>11.30</td>\n",
              "      <td>11.78</td>\n",
              "      <td>0.48</td>\n",
              "    </tr>\n",
              "    <tr>\n",
              "      <th>Stratified Sample (Method 1)</th>\n",
              "      <td>11.69</td>\n",
              "      <td>11.78</td>\n",
              "      <td>0.09</td>\n",
              "    </tr>\n",
              "    <tr>\n",
              "      <th>Stratified Sample (Method 2)</th>\n",
              "      <td>11.59</td>\n",
              "      <td>11.78</td>\n",
              "      <td>0.19</td>\n",
              "    </tr>\n",
              "    <tr>\n",
              "      <th>SMOTE Sample</th>\n",
              "      <td>11.25</td>\n",
              "      <td>11.78</td>\n",
              "      <td>0.53</td>\n",
              "    </tr>\n",
              "    <tr>\n",
              "      <th>Reservoir Sample</th>\n",
              "      <td>11.57</td>\n",
              "      <td>11.78</td>\n",
              "      <td>0.21</td>\n",
              "    </tr>\n",
              "  </tbody>\n",
              "</table>\n",
              "</div>"
            ],
            "text/plain": [
              "                              Sampling Mean  Real Mean  Absolut Error\n",
              "Simple Random Sample                  11.84      11.78           0.06\n",
              "Systematic Sample                     11.30      11.78           0.48\n",
              "Stratified Sample (Method 1)          11.69      11.78           0.09\n",
              "Stratified Sample (Method 2)          11.59      11.78           0.19\n",
              "SMOTE Sample                          11.25      11.78           0.53\n",
              "Reservoir Sample                      11.57      11.78           0.21"
            ]
          },
          "metadata": {},
          "execution_count": 234
        }
      ]
    },
    {
      "cell_type": "markdown",
      "metadata": {
        "id": "C0flG6rBHaIr"
      },
      "source": [
        "+ The means furthest from the real mean are the **Systematic Sample** and **SMOTE Sample**. "
      ]
    },
    {
      "cell_type": "code",
      "metadata": {
        "id": "DInnaSSJFlv3"
      },
      "source": [
        ""
      ],
      "execution_count": null,
      "outputs": []
    }
  ]
}